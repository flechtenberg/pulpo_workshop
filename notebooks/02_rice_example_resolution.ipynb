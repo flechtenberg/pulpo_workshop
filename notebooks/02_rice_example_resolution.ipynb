{
 "cells": [
  {
   "cell_type": "markdown",
   "id": "32e0f51f9cc4fea0",
   "metadata": {},
   "source": [
    "<div style=\"border: 2px solid #FFA500; padding: 10px; border-radius: 5px; background-color: #FFFACD; color: black; text-align: center;\">\n",
    "  <h1 style=\"margin: 0;\">Rice Husk Example 🌾</h1>\n",
    "</div>"
   ]
  },
  {
   "cell_type": "markdown",
   "id": "c0ce4a48f693064b",
   "metadata": {},
   "source": [
    "This example is based on the following publication: [Kätelhön et al. (2016)](https://doi.org/10.1021/acs.est.6b04270). The original example used for introducing the TCM deals with a simultaneous technology 🔨 and regional 🌐 choice problem. It can also be solved with PULPO. The superstructure can be seen below:"
   ]
  },
  {
   "cell_type": "markdown",
   "id": "a3dc69e3-85bc-44b2-be72-6cc14657118e",
   "metadata": {
    "execution": {
     "iopub.execute_input": "2024-08-29T11:29:52.774005Z",
     "iopub.status.busy": "2024-08-29T11:29:52.774005Z",
     "iopub.status.idle": "2024-08-29T11:29:52.791202Z",
     "shell.execute_reply": "2024-08-29T11:29:52.790202Z",
     "shell.execute_reply.started": "2024-08-29T11:29:52.774005Z"
    }
   },
   "source": [
    "<div style=\"text-align: center;\">\n",
    "    <img src=\"figures/system_boundaries_rice-superstructure_neutral.svg\" alt=\"System Boundaries of Rice Superstructure (Dark Theme)\" width=\"400\">\n",
    "</div>"
   ]
  },
  {
   "cell_type": "markdown",
   "id": "e25a8a54-f610-40b5-9004-dfedb950f961",
   "metadata": {},
   "source": [
    "#### What do we want to achieve?"
   ]
  },
  {
   "cell_type": "markdown",
   "id": "15d2d1f4-c194-40fe-b472-a47d9c2ba22f",
   "metadata": {},
   "source": [
    "In this demonstration, we want to understand the choices in the system, when optimizing it for various impact categories, subject to various constraints. The first outcome is the following:\n",
    "\n",
    "<div style=\"text-align: center;\">\n",
    "    <img src=\"figures/result_1.png\" alt=\"System Boundaries of Rice Superstructure (Dark Theme)\" width=\"400\">\n",
    "</div>\n",
    "\n",
    "This plot reveals the total minimum GWP, as well as the optimal technology and regional mixes as a function of the final demand, subject to availability constraints.\n",
    "\n",
    "<div style=\"text-align: center;\">\n",
    "    <img src=\"figures/result_2.png\" alt=\"System Boundaries of Rice Superstructure (Dark Theme)\" width=\"300\">\n",
    "</div>\n",
    "\n",
    "This plot reveals the trade-off between minimizing the GWP and the Cost."
   ]
  },
  {
   "cell_type": "markdown",
   "id": "e60ff993-3fe9-4558-8931-9e7abe6c4e2f",
   "metadata": {},
   "source": [
    "#### Problem Formulation\n",
    "\n",
    "The original problem formulation deals with an economic objective function, using factor constraints. With PULPO, the intention is to solve LCO problems with environmental objectives, but a function for economic factors could be considered for implementation as well, if data availability allows so. \n",
    "\n",
    "Hence, the adapted problem formulation can be stated as follows:\n",
    "\n",
    "- **Goal and Scope**: Find the optimal system configuration, minimizing the global warming potential. First, in an unconstrained system, then a constrained system.\n",
    "\n",
    "- **Functional Unit** 📦: For demonstration purpose, a final demand of 1 Mt of processed rice is specified. This value will be subject to a sensitivity analysis. \n",
    "- **Objective Function** 🎯: Global warming potential (GWP)\n",
    "- **Possible Choices** 🔄: \n",
    "\t- **Regional** 🌐: (Rice husk collection 1 / Rice husk collection 2 / **...** / Rice husk collection 5)\n",
    "\t- **Technology** 🔨: (Rice husk boiler / Natural gas boiler / Wood pellet boiler)\n",
    "- **Additional Constraints** ⚙️: None (*for now*)"
   ]
  },
  {
   "cell_type": "markdown",
   "id": "892c90e9-ceec-4135-977a-9da892189afc",
   "metadata": {},
   "source": [
    "##### **<u>Technosphere Matrix A</u>**\n",
    "In the Technosphere, new choices are added in a **bottom-up** fashion, extending the original square matrix:\n",
    "\n",
    "\n",
    "$$\n",
    "\\scriptsize\n",
    "\\begin{array}{|c|c|c|c|c|c|c|c|c|c|c|c|c|c|c|c|}\n",
    "\\hline\n",
    " & \\text{Rice} & \\text{Rice} & \\text{Natural gas} & \\text{natural} & \\text{Power} & \\text{Transportation} & \\textcolor{darkorange}{\\text{Rice husk}} & \\textcolor{darkorange}{\\text{Rice husk}} & \\textcolor{darkorange}{\\text{Rice husk}} & \\textcolor{darkorange}{\\text{Rice husk}} & \\textcolor{darkorange}{\\text{Rice husk}} & \\textcolor{darkorange}{\\text{Wood pellet}} & \\textcolor{darkorange}{\\text{Burning of}} & \\textcolor{orange}{\\text{Rice husk}} & \\textcolor{orange}{\\text{Wood pellet}} \\\\\n",
    " & \\text{factory} & \\text{farming} & \\text{boiler} & \\text{gas supply} & \\text{plant} & \\text{by truck} & \\textcolor{darkorange}{\\text{collection 1}} & \\textcolor{darkorange}{\\text{collection 2}} & \\textcolor{darkorange}{\\text{collection 3}} & \\textcolor{darkorange}{\\text{collection 4}} & \\textcolor{darkorange}{\\text{collection 5}} & \\textcolor{darkorange}{\\text{supply}} & \\textcolor{darkorange}{\\text{rice husk}} & \\textcolor{orange}{\\text{boiler}} & \\textcolor{orange}{\\text{boiler}} \\\\\n",
    "\\hline\n",
    "\\text{Processed rice (in Mt)} & 1 & 0 & 0 & 0 & 0 & 0 & \\textcolor{LightSalmon}{0} & \\textcolor{LightSalmon}{0} & \\textcolor{LightSalmon}{0} & \\textcolor{LightSalmon}{0} & \\textcolor{LightSalmon}{0} & \\textcolor{LightSalmon}{0} & \\textcolor{LightSalmon}{0} & \\textcolor{PeachPuff}{0} & \\textcolor{PeachPuff}{0} \\\\\n",
    "\\hline\n",
    "\\text{Unprocessed rice (in Mt)} & -1.15 & 1 & 0 & 0 & 0 & 0 & \\textcolor{LightSalmon}{0} & \\textcolor{LightSalmon}{0} & \\textcolor{LightSalmon}{0} & \\textcolor{LightSalmon}{0} & \\textcolor{LightSalmon}{0} & \\textcolor{LightSalmon}{0} & \\textcolor{LightSalmon}{0} & \\textcolor{PeachPuff}{0} & \\textcolor{PeachPuff}{0} \\\\\n",
    "\\hline\n",
    "\\text{Thermal energy (in TWh)} & -2.2 & 0 & \\cellcolor{orange}\\textcolor{white}{1} & 0 & 0 & 0 & \\textcolor{LightSalmon}{0} & \\textcolor{LightSalmon}{0} & \\textcolor{LightSalmon}{0} & \\textcolor{LightSalmon}{0} & \\textcolor{LightSalmon}{0} & \\textcolor{LightSalmon}{0} & \\textcolor{LightSalmon}{0} & \\cellcolor{orange}\\textcolor{white}{1} & \\cellcolor{orange}\\textcolor{white}{1} \\\\\n",
    "\\hline\n",
    "\\text{Natural gas (in TWh)} & 0 & 0 & -1.11 & 1 & 0 & 0 & \\textcolor{LightSalmon}{0} & \\textcolor{LightSalmon}{0} & \\textcolor{LightSalmon}{0} & \\textcolor{LightSalmon}{0} & \\textcolor{LightSalmon}{0} & \\textcolor{LightSalmon}{0} & \\textcolor{LightSalmon}{0} & \\textcolor{PeachPuff}{0} & \\textcolor{PeachPuff}{0} \\\\\n",
    "\\hline\n",
    "\\text{Electricity (in TWh)} & -0.08 & 0 & 0 & 0 & 1 & 0 & \\textcolor{LightSalmon}{0} & \\textcolor{LightSalmon}{0} & \\textcolor{LightSalmon}{0} & \\textcolor{LightSalmon}{0} & \\textcolor{LightSalmon}{0} & \\textcolor{darkorange}{-0.02} & \\textcolor{LightSalmon}{0} & \\textcolor{PeachPuff}{0} & \\textcolor{PeachPuff}{0} \\\\\n",
    "\\hline\n",
    "\\text{Transportation (in Gt*km)} & -0.35 & 0 & 0 & 0 & 0 & 1 & \\textcolor{darkorange}{-0.12} & \\textcolor{darkorange}{-0.24} & \\textcolor{darkorange}{-0.36} & \\textcolor{darkorange}{-0.48} & \\textcolor{darkorange}{-0.6} & \\textcolor{darkorange}{-0.1} & \\textcolor{LightSalmon}{0} & \\textcolor{PeachPuff}{0} & \\textcolor{PeachPuff}{0} \\\\\n",
    "\\hline\n",
    "\\textcolor{DodgerBlue}{\\text{Rice husk at factory (in Mt)}} & \\textcolor{lightblue}{0} & \\textcolor{lightblue}{0} & \\textcolor{lightblue}{0} & \\textcolor{lightblue}{0} & \\textcolor{lightblue}{0} & \\textcolor{lightblue}{0} & \\cellcolor{MediumOrchid}\\textcolor{white}{1} & \\cellcolor{MediumOrchid}\\textcolor{white}{1} & \\textcolor{MediumOrchid}{1} & \\textcolor{MediumOrchid}{1} & \\cellcolor{MediumOrchid}\\textcolor{white}{1} & \\textcolor{Thistle}{0} & \\textcolor{Thistle}{0} & \\textcolor{MediumOrchid}{-0.23} & \\textcolor{Thistle}{0} \\\\\n",
    "\\hline\n",
    "\\textcolor{DodgerBlue}{\\text{Rice husk at farm (in Mt)}} & \\textcolor{lightblue}{0} & \\textcolor{DodgerBlue}{0.6} & \\textcolor{lightblue}{0} & \\textcolor{lightblue}{0} & \\textcolor{lightblue}{0} & \\textcolor{lightblue}{0} & \\textcolor{MediumOrchid}{-1} & \\textcolor{MediumOrchid}{-1} & \\textcolor{MediumOrchid}{-1} & \\textcolor{MediumOrchid}{-1} & \\textcolor{MediumOrchid}{-1} & \\textcolor{Thistle}{0} & \\textcolor{MediumOrchid}{-1} & \\textcolor{Thistle}{0} & \\textcolor{Thistle}{0} \\\\\n",
    "\\hline\n",
    "\\textcolor{DodgerBlue}{\\text{Wood pellets (in Mt)}} & \\textcolor{lightblue}{0} & \\textcolor{lightblue}{0} & \\textcolor{lightblue}{0} & \\textcolor{lightblue}{0} & \\textcolor{lightblue}{0} & \\textcolor{lightblue}{0} & \\textcolor{Thistle}{0} & \\textcolor{Thistle}{0} & \\textcolor{Thistle}{0} & \\textcolor{Thistle}{0} & \\textcolor{Thistle}{0} & \\textcolor{MediumOrchid}{1} & \\textcolor{Thistle}{0} & \\textcolor{Thistle}{0} & \\textcolor{MediumOrchid}{-0.25} \\\\\n",
    "\\hline\n",
    "\\end{array}\n",
    "$$"
   ]
  },
  {
   "cell_type": "markdown",
   "id": "a9fdfa3e-e43f-4616-906f-a0ca218cea4d",
   "metadata": {},
   "source": [
    "##### <u>Biosphere Matrix B</u>\n",
    "In the Biosphere, the corresponding elementary flows need to be added:"
   ]
  },
  {
   "cell_type": "markdown",
   "id": "3433ef19-c6fb-41d7-a850-902435777607",
   "metadata": {},
   "source": [
    "$$\n",
    "\\scriptsize\n",
    "\\begin{array}{|c|c|c|c|c|c|c|c|c|c|c|c|c|c|c|c|}\n",
    "\\hline\n",
    " & \\text{Rice} & \\text{Rice} & \\text{Natural gas} & \\text{natural} & \\text{Power} & \\text{Transportation} & \\textcolor{darkorange}{\\text{Rice husk}} & \\textcolor{darkorange}{\\text{Rice husk}} & \\textcolor{darkorange}{\\text{Rice husk}} & \\textcolor{darkorange}{\\text{Rice husk}} & \\textcolor{darkorange}{\\text{Rice husk}} & \\textcolor{darkorange}{\\text{Wood pellet}} & \\textcolor{darkorange}{\\text{Burning of}} & \\textcolor{orange}{\\text{Rice husk}} & \\textcolor{orange}{\\text{Wood pellet}} \\\\\n",
    " & \\text{factory} & \\text{farming} & \\text{boiler} & \\text{gas supply} & \\text{plant} & \\text{by truck} & \\textcolor{darkorange}{\\text{collection 1}} & \\textcolor{darkorange}{\\text{collection 2}} & \\textcolor{darkorange}{\\text{collection 3}} & \\textcolor{darkorange}{\\text{collection 4}} & \\textcolor{darkorange}{\\text{collection 5}} & \\textcolor{darkorange}{\\text{supply}} & \\textcolor{darkorange}{\\text{rice husk}} & \\textcolor{orange}{\\text{boiler}} & \\textcolor{orange}{\\text{boiler}} \\\\\n",
    "\\hline\n",
    "\\text{CO2 (in Mt)} & 0 & 6.14 \\times 10^{-1} & 2.27 \\times 10^{-1} & 3.21 \\times 10^{-2} & 1.10 \\times 10^{0} & 5.76 \\times 10^{-2} & \\textcolor{LightSalmon}{0} & \\textcolor{LightSalmon}{0} & \\textcolor{LightSalmon}{0} & \\textcolor{LightSalmon}{0} & \\textcolor{LightSalmon}{0} & \\textcolor{darkorange}{1.50 \\times 10^{-1}} & \\textcolor{LightSalmon}{0} & \\textcolor{PeachPuff}{0} & \\textcolor{PeachPuff}{0} \\\\\n",
    "\\hline\n",
    "\\text{CH4 (in Mt)} & 0 & 1.33 \\times 10^{-3} & 1.47 \\times 10^{-4} & 1.50 \\times 10^{-3} & 9.15 \\times 10^{-4} & 6.97 \\times 10^{-5} & \\textcolor{LightSalmon}{0} & \\textcolor{LightSalmon}{0} & \\textcolor{LightSalmon}{0} & \\textcolor{LightSalmon}{0} & \\textcolor{LightSalmon}{0} & \\textcolor{darkorange}{2.56 \\times 10^{-4}} & \\textcolor{LightSalmon}{0} & \\textcolor{PeachPuff}{0} & \\textcolor{PeachPuff}{0} \\\\\n",
    "\\hline\n",
    "\\textcolor{FireBrick}{\\text{Economic flows (in million \\$)}} & \\textcolor{FireBrick}{50} & \\textcolor{FireBrick}{360} & \\textcolor{LightCoral}{0} & \\textcolor{FireBrick}{13} & \\textcolor{FireBrick}{65} & \\textcolor{FireBrick}{170} & \\textcolor{FireBrick}{45} & \\textcolor{FireBrick}{36} & \\textcolor{FireBrick}{29} & \\textcolor{FireBrick}{23} & \\textcolor{FireBrick}{18} & \\textcolor{FireBrick}{72} & \\textcolor{LightCoral}{0} & \\textcolor{LightCoral}{0} & \\textcolor{LightCoral}{0} \\\\ \\hline\n",
    "\\end{array}\n",
    "$$"
   ]
  },
  {
   "cell_type": "markdown",
   "id": "e9cb19cf-06e4-4453-af0d-84d3320bd749",
   "metadata": {},
   "source": [
    "The final row for $\\textcolor{FireBrick}{\\text{economic flows}}$ is derived from the factor requirements matrix and the factor price vector from the original example. Only the cost for natural gas has been lowered slightly (16 --> 13), to enforce the economic competitiveness of the NG boiler. Although integrating economic flows into the biosphere matrix is unconventional, this approach will later be useful for demonstrating a multi-objective trade-off assessment, without the need to introduce additional elements to account for economic impacts."
   ]
  },
  {
   "cell_type": "markdown",
   "id": "2d8bda34-2a28-427b-a7e5-b144a61d8bf6",
   "metadata": {
    "execution": {
     "iopub.execute_input": "2024-08-29T11:09:42.524415Z",
     "iopub.status.busy": "2024-08-29T11:09:42.524415Z",
     "iopub.status.idle": "2024-08-29T11:09:42.540045Z",
     "shell.execute_reply": "2024-08-29T11:09:42.540045Z",
     "shell.execute_reply.started": "2024-08-29T11:09:42.524415Z"
    }
   },
   "source": [
    "##### <u>Characterization Factor Matrix Q</u>\n",
    "The characterization factors are extended with a row for $\\textcolor{FireBrick}{\\text{Cost (in million \\$)}}$:\n",
    "\n",
    "$$\n",
    "\\scriptsize\n",
    "\\begin{array}{|c|c|c|c|}\n",
    "\\hline\n",
    " & \\text{CO2} & \\text{CH4} & \\textcolor{FireBrick}{\\text{Economic flows (in million \\$)}}  \\\\\n",
    "\\hline\n",
    "\\text{GWP100 (in kg CO2e per kg)} & 1 & 25 & \\textcolor{LightCoral}{0} \\\\\n",
    "\\hline\n",
    "\\textcolor{FireBrick}{\\text{Cost (in million \\$)}} & \\textcolor{LightCoral}{0} & \\textcolor{LightCoral}{0} & \\textcolor{FireBrick}{1} \\\\\n",
    "\\hline\n",
    "\\end{array}\n",
    "$$"
   ]
  },
  {
   "cell_type": "markdown",
   "id": "de2c23c7-f8bd-43ab-8008-6b315956a11b",
   "metadata": {},
   "source": [
    "_____\n",
    "The whole system can be explored in [activity-browser](https://github.com/LCA-ActivityBrowser/activity-browser):\n",
    "<div style=\"text-align: center;\">\n",
    "    <img src=\"figures/rice_husk_database.png\" alt=\"System Boundaries of Rice Superstructure (Dark Theme)\" width=\"600\">\n",
    "</div>\n",
    "And the impact categories:\n",
    "<div style=\"text-align: center;\">\n",
    "    <img src=\"figures/rice_impact_categories.png\" alt=\"System Boundaries of Rice Superstructure (Dark Theme)\" width=\"300\">\n",
    "</div>"
   ]
  },
  {
   "cell_type": "markdown",
   "id": "a90c5416-f548-4988-b4d5-22c10ff971db",
   "metadata": {},
   "source": [
    "<div style=\"border: 2px solid #FF6347; padding: 10px; border-radius: 5px; background-color: #FFE4E1; color: black; text-align: center;\">\n",
    "  <h2 style=\"margin: 0;\">Resolution with PULPO 🐙</h2>\n",
    "</div>"
   ]
  },
  {
   "cell_type": "markdown",
   "id": "c494e29079cd5da5",
   "metadata": {},
   "source": [
    "Import the necessary libraries"
   ]
  },
  {
   "cell_type": "code",
   "execution_count": null,
   "id": "initial_id",
   "metadata": {
    "ExecuteTime": {
     "end_time": "2024-09-03T07:59:54.016208Z",
     "start_time": "2024-09-03T07:59:51.781899Z"
    }
   },
   "outputs": [],
   "source": [
    "import os\n",
    "import sys\n",
    "from pulpo import pulpo\n",
    "\n",
    "import numpy as np\n",
    "np.NaN = np.nan\n",
    "import pandas as pd\n",
    "import copy"
   ]
  },
  {
   "cell_type": "markdown",
   "id": "3c46111f96d69ea4",
   "metadata": {},
   "source": [
    "Set the project, database and method (**objective function**). In this example, the rice husk case study is used, which can be installed via a PULPO function (```install_rice_husk_db```)."
   ]
  },
  {
   "cell_type": "code",
   "execution_count": null,
   "id": "12c6fe9d69080daa",
   "metadata": {
    "ExecuteTime": {
     "end_time": "2024-08-30T13:27:36.219337Z",
     "start_time": "2024-08-30T13:27:36.204957Z"
    }
   },
   "outputs": [],
   "source": [
    "pulpo.install_rice_husk_db()\n",
    "project = \"rice_husk_example\" \n",
    "database = \"rice_husk_example_db\"\n",
    "method = \"('my project', 'climate change')\""
   ]
  },
  {
   "cell_type": "markdown",
   "id": "99e7a4da6f677b0b",
   "metadata": {},
   "source": [
    "Substitute with your working directory of choice. This directory will be used to store the results."
   ]
  },
  {
   "cell_type": "code",
   "execution_count": null,
   "id": "6309f7430f7048b1",
   "metadata": {
    "ExecuteTime": {
     "end_time": "2024-08-30T13:27:36.235218Z",
     "start_time": "2024-08-30T13:27:36.220336Z"
    }
   },
   "outputs": [],
   "source": [
    "notebook_dir = os.path.dirname(os.getcwd())\n",
    "directory = os.path.join(notebook_dir, 'data')"
   ]
  },
  {
   "cell_type": "markdown",
   "id": "4b6f70b7a71ad2a8",
   "metadata": {},
   "source": [
    "Create a **PulpoOptimizer** instance. This class is used to interact with the LCI database and solve the optimization problem. It is specified by the project, database, method and directory."
   ]
  },
  {
   "cell_type": "code",
   "execution_count": null,
   "id": "93bb0c9ec9b0199e",
   "metadata": {
    "ExecuteTime": {
     "end_time": "2024-08-30T13:27:36.255290Z",
     "start_time": "2024-08-30T13:27:36.237246Z"
    }
   },
   "outputs": [],
   "source": [
    "pulpo_worker = pulpo.PulpoOptimizer(project, database, method, directory)"
   ]
  },
  {
   "cell_type": "markdown",
   "id": "3d9c37df17f5e62e",
   "metadata": {},
   "source": [
    "Import LCI data. After initializing the PulpoOptimizer instance, the LCI data is imported from the database."
   ]
  },
  {
   "cell_type": "code",
   "execution_count": null,
   "id": "a90199e7ebc45468",
   "metadata": {
    "ExecuteTime": {
     "end_time": "2024-08-30T13:27:36.287483Z",
     "start_time": "2024-08-30T13:27:36.256302Z"
    }
   },
   "outputs": [],
   "source": [
    "pulpo_worker.get_lci_data()"
   ]
  },
  {
   "cell_type": "markdown",
   "id": "994a5871c5f372c",
   "metadata": {},
   "source": [
    "Specify the **functional unit**. In this case, the functional unit is 1 Mt of processed rice. PULPO implements a search function (```retrieve_activities```) to find the activities that match the specified reference products (alternatively: keys, activity name, region)."
   ]
  },
  {
   "cell_type": "code",
   "execution_count": null,
   "id": "4e5080ff681972cd",
   "metadata": {
    "ExecuteTime": {
     "end_time": "2024-08-30T13:27:36.303621Z",
     "start_time": "2024-08-30T13:27:36.288501Z"
    }
   },
   "outputs": [],
   "source": [
    "rice_factory = pulpo_worker.retrieve_activities(reference_products='Processed rice (in Mt)')\n",
    "\n",
    "demand = {rice_factory[0]: 1}"
   ]
  },
  {
   "cell_type": "markdown",
   "id": "536a351d502c0ed3",
   "metadata": {},
   "source": [
    "Specify the **choices**. Here, the choices are regional 🌐 choices for rise husk collections, and technological ⛏ choices for boiler type selection.\n",
    "\n",
    "The auxiliar choices are needed to resolve the issue that rice, when not used in the boiler must be burned instead. \n",
    "\n",
    "(*At this point, just accept. If you are curious about how this multi-functionality is technically adressed, refer to the paper, or reach out.*)"
   ]
  },
  {
   "cell_type": "code",
   "execution_count": null,
   "id": "60bb4cbd2df692ad",
   "metadata": {
    "ExecuteTime": {
     "end_time": "2024-08-30T13:27:36.334419Z",
     "start_time": "2024-08-30T13:27:36.304822Z"
    }
   },
   "outputs": [],
   "source": [
    "## Rise husk collection\n",
    "rice_husk_activities = [\"Rice husk collection 1\",\n",
    "              \"Rice husk collection 2\",\n",
    "              \"Rice husk collection 3\",\n",
    "              \"Rice husk collection 4\",\n",
    "              \"Rice husk collection 5\",]\n",
    "rice_husk_collections = pulpo_worker.retrieve_activities(activities=rice_husk_activities)\n",
    "\n",
    "## Boilers\n",
    "boiler_activities = [\"Natural gas boiler\",\n",
    "                     \"Wood pellet boiler\",\n",
    "                     \"Rice husk boiler\"]\n",
    "boilers = pulpo_worker.retrieve_activities(activities=boiler_activities)\n",
    "\n",
    "## Auxiliar\n",
    "auxiliar_activities = [\"Rice husk market\",\n",
    "                       \"Burning of rice husk\"]\n",
    "auxiliar = pulpo_worker.retrieve_activities(activities=auxiliar_activities)\n",
    "\n",
    "## Combine to create the choices dictionary\n",
    "## For each kind of choice, assign a 'label' (e.g. 'boilers')\n",
    "## To each possible choice, assign a process capacity. In the 'unconstrained' case, set this value very high (e.g. 1e10, but depends on the scale of the functional unit)\n",
    "choices = {'Rice Husk (Mt)': {rice_husk_collections[0]: 1e10,\n",
    "                              rice_husk_collections[1]: 1e10,\n",
    "                              rice_husk_collections[2]: 1e10,\n",
    "                              rice_husk_collections[3]: 1e10,\n",
    "                              rice_husk_collections[4]: 1e10},\n",
    "           'Thermal Energy (TWh)': {boilers[0]: 1e10,\n",
    "                                    boilers[1]: 1e10,\n",
    "                                    boilers[2]: 1e10},\n",
    "           'Auxiliar': {auxiliar[0]: 1e10,\n",
    "                        auxiliar[1]: 1e10}}"
   ]
  },
  {
   "cell_type": "markdown",
   "id": "4754bac2841743ac",
   "metadata": {},
   "source": [
    "Instantiate and solve the optimization model"
   ]
  },
  {
   "cell_type": "code",
   "execution_count": null,
   "id": "59cf291fa08d55f9",
   "metadata": {
    "ExecuteTime": {
     "end_time": "2024-08-30T13:27:36.489210Z",
     "start_time": "2024-08-30T13:27:36.335420Z"
    }
   },
   "outputs": [],
   "source": [
    "pulpo_worker.instantiate(choices=choices, demand=demand)\n",
    "results = pulpo_worker.solve()"
   ]
  },
  {
   "cell_type": "markdown",
   "id": "175e0abe75cd1b44",
   "metadata": {},
   "source": [
    "Save and summarize the results"
   ]
  },
  {
   "cell_type": "code",
   "execution_count": null,
   "id": "ee12795f6ce91fb1",
   "metadata": {
    "ExecuteTime": {
     "end_time": "2024-08-30T13:27:36.585505Z",
     "start_time": "2024-08-30T13:27:36.490212Z"
    }
   },
   "outputs": [],
   "source": [
    "pulpo_worker.save_results(choices=choices, demand=demand, name='rice_example_unconstrained.xlsx')\n",
    "pulpo_worker.summarize_results(choices=choices, demand=demand, zeroes=True)"
   ]
  },
  {
   "cell_type": "markdown",
   "id": "c2e6fb2df1316b7a",
   "metadata": {},
   "source": [
    "It can be seen that, in the unconstrained case minimizing the GWP, the optimal solution is to use the rice husk boiler and the rice husk collection 1. The minimum GWP is 0.859 Mt CO2-eq per Mt of processed rice."
   ]
  },
  {
   "cell_type": "markdown",
   "id": "8f827391132f860d",
   "metadata": {},
   "source": [
    "So far, we said that the case is *unconstrained*. This means that we don't consider any relevant capacity constraints on any of the processes. However, due to the multi-functionality, an indirect capacity constrained is imposed on the hice husk availability. This availability is coupled to the amount of rice demanded, meaning that, if more thermal energy is required than the one that can be provided by the rice husk, the rest must be provided by the other boiler types!"
   ]
  },
  {
   "cell_type": "markdown",
   "id": "6909962492a8be70",
   "metadata": {},
   "source": [
    "<div style=\"border: 2px solid #A9A9A9; padding: 10px; border-radius: 5px; background-color: #DCDCDC; color: black; text-align: center;\">\n",
    "  <h3 style=\"margin: 0;\">Constrained Case 🔏</h3>\n",
    "</div>"
   ]
  },
  {
   "cell_type": "markdown",
   "id": "34750297413d77a3",
   "metadata": {},
   "source": [
    "<div style=\"border: 2px solid #A8A8A8; padding: 8px; border-radius: 5px; background-color: #D3D3D3; color: black; text-align: center;\">\n",
    "  <h3 style=\"margin: 0;\"> External Constraints due to Production Capacity and Availability</h3>\n",
    "</div>"
   ]
  },
  {
   "cell_type": "markdown",
   "id": "b582a6f915b4e5f4",
   "metadata": {},
   "source": [
    "#### Choice Capacity Constraints ↔"
   ]
  },
  {
   "cell_type": "markdown",
   "id": "706a15feac94ec28",
   "metadata": {},
   "source": [
    "Add a constraint to the rice husk collection of 0.1 Mt per zone"
   ]
  },
  {
   "cell_type": "code",
   "execution_count": null,
   "id": "a20ea5ef249b6ff6",
   "metadata": {
    "ExecuteTime": {
     "end_time": "2024-08-30T13:27:36.830468Z",
     "start_time": "2024-08-30T13:27:36.816377Z"
    }
   },
   "outputs": [],
   "source": [
    "choices_constrained = copy.deepcopy(choices)\n",
    "choices_constrained['Rice Husk (Mt)'] = {rice_husk_collections[0]: 0.1,\n",
    "                                         rice_husk_collections[1]: 0.1,\n",
    "                                         rice_husk_collections[2]: 0.1,\n",
    "                                         rice_husk_collections[3]: 0.1,\n",
    "                                         rice_husk_collections[4]: 0.1}"
   ]
  },
  {
   "cell_type": "code",
   "execution_count": null,
   "id": "118d4c715c26f0e8",
   "metadata": {
    "ExecuteTime": {
     "end_time": "2024-08-30T13:27:36.956465Z",
     "start_time": "2024-08-30T13:27:36.831467Z"
    }
   },
   "outputs": [],
   "source": [
    "pulpo_worker.instantiate(choices=choices_constrained, demand=demand)\n",
    "results = pulpo_worker.solve()"
   ]
  },
  {
   "cell_type": "code",
   "execution_count": null,
   "id": "49dffb7284db43da",
   "metadata": {
    "ExecuteTime": {
     "end_time": "2024-08-30T13:27:36.995531Z",
     "start_time": "2024-08-30T13:27:36.957449Z"
    }
   },
   "outputs": [],
   "source": [
    "pulpo_worker.summarize_results(choices=choices_constrained, demand=demand, zeroes=True)"
   ]
  },
  {
   "cell_type": "markdown",
   "id": "c876c04ab79716f3",
   "metadata": {},
   "source": [
    "When constraints are specified on the availability of rice husk, the optimizer chooses to use all the available rice husk that can be transported from every zone. The remaining thermal energy is provided by the wood pellet boiler."
   ]
  },
  {
   "cell_type": "markdown",
   "id": "740fe625af1f28f1",
   "metadata": {},
   "source": [
    "#### Lower Limits ⬇\n",
    "The final amount of thermal energy supplied by the wood pellet boiler is very small (0.026 TWh) compared to the rice husk boiler (2.174 TWh). There is an option to enforce a lower limit on the production value of the wood pellet boiler. This can be done using the `lower_limit` parameter in the `instantiate` method:"
   ]
  },
  {
   "cell_type": "code",
   "execution_count": null,
   "id": "20d6a572da725f27",
   "metadata": {
    "ExecuteTime": {
     "end_time": "2024-08-30T13:27:37.010997Z",
     "start_time": "2024-08-30T13:27:36.997474Z"
    }
   },
   "outputs": [],
   "source": [
    "lower_limit = {boilers[1]: 0.5}"
   ]
  },
  {
   "cell_type": "code",
   "execution_count": null,
   "id": "141ad552db3ef72f",
   "metadata": {
    "ExecuteTime": {
     "end_time": "2024-08-30T13:27:37.130172Z",
     "start_time": "2024-08-30T13:27:37.011997Z"
    }
   },
   "outputs": [],
   "source": [
    "pulpo_worker.instantiate(choices=choices_constrained, demand=demand, lower_limit=lower_limit)\n",
    "results = pulpo_worker.solve()"
   ]
  },
  {
   "cell_type": "markdown",
   "id": "430da2663bebc4a1",
   "metadata": {},
   "source": [
    "Following the notion highlighted at the end of the previous section, let's investigate what happens if more thermal energy is required than the one that can be provided by the rice husk. This is done by adding another demand for the functional unit:"
   ]
  },
  {
   "cell_type": "code",
   "execution_count": null,
   "id": "e5994a39d8cae652",
   "metadata": {
    "ExecuteTime": {
     "end_time": "2024-08-30T13:27:37.161580Z",
     "start_time": "2024-08-30T13:27:37.131173Z"
    }
   },
   "outputs": [],
   "source": [
    "pulpo_worker.summarize_results(choices=choices_constrained, demand=demand, zeroes=True)"
   ]
  },
  {
   "cell_type": "markdown",
   "id": "fbc4190dafd424ee",
   "metadata": {},
   "source": [
    "It is observed that **0.5 TWh** are supplied by the wood pellet boiler. However, caution is advised when setting a lower limit, as it enforces the process operation regardless of the functional unit or objective. This may lead to infeasibilities if the process is forced to produce more than necessary.\n",
    "\n",
    "We are currently developing an integer decision variable to allow for flexible process selection with enforced lower bounds on production capacity. For example, the wood pellet boiler could be selected only if it produces more than **0.5 TWh**, or the natural gas boiler could be chosen if it has a more appropriate lower limit.\n"
   ]
  },
  {
   "cell_type": "markdown",
   "id": "56979f017bc2973b",
   "metadata": {},
   "source": [
    "##### Upper Limits ⬆\n",
    "\n",
    "The same way that lower limits can be enforced, upper limits can be enforced as well. This can be done using the `upper_limit` parameter in the `instantiate` method. Let's see an example, where we limit the transportation process to 0.42 Gt*km (*This value has no rational meaning, and is just an example to demonstrate the upper limit functionality*):"
   ]
  },
  {
   "cell_type": "code",
   "execution_count": null,
   "id": "c732bf14ae6a75e",
   "metadata": {
    "ExecuteTime": {
     "end_time": "2024-08-30T13:27:37.177178Z",
     "start_time": "2024-08-30T13:27:37.162581Z"
    }
   },
   "outputs": [],
   "source": [
    "# Retrieve the transport activity\n",
    "transportation = pulpo_worker.retrieve_activities(activities=[\"Transportation by truck\"])"
   ]
  },
  {
   "cell_type": "code",
   "execution_count": null,
   "id": "3a53c8fc0a47294e",
   "metadata": {
    "ExecuteTime": {
     "end_time": "2024-08-30T13:27:37.192343Z",
     "start_time": "2024-08-30T13:27:37.178179Z"
    }
   },
   "outputs": [],
   "source": [
    "upper_limit = {transportation[0]: 0.42}"
   ]
  },
  {
   "cell_type": "code",
   "execution_count": null,
   "id": "f06b707f9bfd7d5",
   "metadata": {
    "ExecuteTime": {
     "end_time": "2024-08-30T13:27:37.340418Z",
     "start_time": "2024-08-30T13:27:37.193344Z"
    }
   },
   "outputs": [],
   "source": [
    "pulpo_worker.instantiate(choices=choices_constrained, demand=demand, upper_limit=upper_limit)\n",
    "results = pulpo_worker.solve()"
   ]
  },
  {
   "cell_type": "code",
   "execution_count": null,
   "id": "ac9b6c8bc4837269",
   "metadata": {
    "ExecuteTime": {
     "end_time": "2024-08-30T13:27:37.372094Z",
     "start_time": "2024-08-30T13:27:37.342418Z"
    }
   },
   "outputs": [],
   "source": [
    "pulpo_worker.summarize_results(choices=choices_constrained, demand=demand, zeroes=True)"
   ]
  },
  {
   "cell_type": "markdown",
   "id": "26c26f2a41640d98",
   "metadata": {},
   "source": [
    "It can be seen that the optimizer chooses to source rice husk from zones 1-3 and the remaining demand for thermal heat is supplied by the wood pellet boiler."
   ]
  },
  {
   "cell_type": "markdown",
   "id": "6781b0114e6b3b90",
   "metadata": {},
   "source": [
    "<div style=\"border: 2px solid #FFB74D; padding: 8px; border-radius: 5px; background-color: #FFE0B2; color: black; text-align: center;\">\n",
    "  <h2 style=\"margin: 0;\">Final Demand Variation 📦</h2>\n",
    "</div>"
   ]
  },
  {
   "cell_type": "markdown",
   "id": "163fcf87-f392-4272-b1d9-2a064e2b29e7",
   "metadata": {},
   "source": [
    "In this section, we are varying the final demand and observe the consequence on the total GWP impact, as well as the technology and regional composition."
   ]
  },
  {
   "cell_type": "markdown",
   "id": "fcf68b98-e5b5-4dbb-a073-ff12f5036b77",
   "metadata": {},
   "source": [
    "First, for illustrative purpose, we are introducing more tight constraints on the rice husk and wood pellet activities:"
   ]
  },
  {
   "cell_type": "code",
   "execution_count": null,
   "id": "91aa3ae8-8018-4169-acae-81fe7976c76e",
   "metadata": {
    "ExecuteTime": {
     "end_time": "2024-08-30T13:27:37.387334Z",
     "start_time": "2024-08-30T13:27:37.373095Z"
    }
   },
   "outputs": [],
   "source": [
    "choices_constrained['Rice Husk (Mt)'] = {rice_husk_collections[0]: 0.03,\n",
    "                                         rice_husk_collections[1]: 0.03,\n",
    "                                         rice_husk_collections[2]: 0.03,\n",
    "                                         rice_husk_collections[3]: 0.03,\n",
    "                                         rice_husk_collections[4]: 0.03}"
   ]
  },
  {
   "cell_type": "code",
   "execution_count": null,
   "id": "cd22b809-8f30-46f3-906e-e00198b28c4c",
   "metadata": {
    "ExecuteTime": {
     "end_time": "2024-08-30T13:27:37.402635Z",
     "start_time": "2024-08-30T13:27:37.388334Z"
    }
   },
   "outputs": [],
   "source": [
    "wood_pellet_supply = pulpo_worker.retrieve_activities(activities=[\"Wood pellet supply\"])\n",
    "upper_limit = {wood_pellet_supply[0]: 0.1}"
   ]
  },
  {
   "cell_type": "markdown",
   "id": "0c239784-b97d-4209-b95e-04d67f6baf8d",
   "metadata": {},
   "source": [
    "The following code performs a loop over various demand values ranging from 0.05 Mt to 1.00 Mt of rice.\n",
    "\n",
    "> **Disclaimer**:  \n",
    "> The syntax used here to access the internal variables of the optimization problem is not as intuitive and requires profound knowledge of the data structures of PULPO (e.g., the process map). We are working on simplifying this, to make it easier for users to access these variables outside the \"summarize\" and \"save\" functions."
   ]
  },
  {
   "cell_type": "code",
   "execution_count": null,
   "id": "53e09471ca489bb2",
   "metadata": {
    "ExecuteTime": {
     "end_time": "2024-08-30T13:27:39.771930Z",
     "start_time": "2024-08-30T13:27:37.403635Z"
    },
    "scrolled": true
   },
   "outputs": [],
   "source": [
    "# List of final demand values\n",
    "final_demand_values = [i * 0.05 for i in range(1, 21)]\n",
    "\n",
    "# Define the entries to be analysed\n",
    "process_map = pulpo_worker.lci_data['process_map']\n",
    "boilers = ['Natural gas boiler', 'Wood pellet boiler', 'Rice husk boiler']\n",
    "zones = [f'Rice husk collection {i}' for i in range(1, 6)]\n",
    "\n",
    "# Mapping process IDs\n",
    "boiler_ids = [process_map[('rice_husk_example_db', boiler)] for boiler in boilers]\n",
    "zone_ids = [process_map[('rice_husk_example_db', zone)] for zone in zones]\n",
    "\n",
    "# Initialize results dictionary\n",
    "results_list = {\n",
    "    'demand': [],\n",
    "    'impact': [],\n",
    "    'natural_gas_boiler': [],\n",
    "    'wood_pellet_boiler': [],\n",
    "    'rice_husk_boiler': [],\n",
    "    **{f'rice_husk_zone_{i}': [] for i in range(1, 6)}\n",
    "}\n",
    "\n",
    "for demand_value in final_demand_values:\n",
    "    # Set the demand for processed rice\n",
    "    demand_dict = {rice_factory[0]: demand_value}\n",
    "    \n",
    "    # Instantiate and solve the optimization model\n",
    "    pulpo_worker.instantiate(choices=choices_constrained, demand=demand_dict, upper_limit=upper_limit)\n",
    "    results = pulpo_worker.solve()\n",
    "    print()\n",
    "    \n",
    "    # Append the results to the list\n",
    "    results_list['demand'].append(demand_value)\n",
    "    results_list['impact'].append(pulpo_worker.instance.OBJ())\n",
    "\n",
    "    # Normalize and append boiler results\n",
    "    total_boilers = sum(pulpo_worker.instance.scaling_vector[i].value for i in boiler_ids)\n",
    "    for boiler, boiler_id in zip(boilers, boiler_ids):\n",
    "        results_list[boiler.lower().replace(' ', '_')].append(\n",
    "            pulpo_worker.instance.scaling_vector[boiler_id].value / total_boilers\n",
    "        )\n",
    "\n",
    "    # Normalize and append zone results\n",
    "    total_zones = sum(pulpo_worker.instance.scaling_vector[i].value for i in zone_ids)\n",
    "    for i, zone_id in enumerate(zone_ids, start=1):\n",
    "        results_list[f'rice_husk_zone_{i}'].append(\n",
    "            pulpo_worker.instance.scaling_vector[zone_id].value / total_zones\n",
    "        )\n",
    "\n",
    "# Convert the results_list dictionary to a pandas DataFrame\n",
    "results_df = pd.DataFrame(results_list)"
   ]
  },
  {
   "cell_type": "markdown",
   "id": "a6388ca5-c29e-4b28-a7b5-28fb0ea9c8e8",
   "metadata": {},
   "source": [
    "Plot the results in a bar chart. While this approach works, the visualization of results could benefit from standardized plots, which we are planning to implement. Currently, users need to manually extract the relevant values and create the visualizations that best meet their needs."
   ]
  },
  {
   "cell_type": "code",
   "execution_count": null,
   "id": "9f6c66a3-6e66-4784-a74b-d19abc7f5cd4",
   "metadata": {
    "ExecuteTime": {
     "end_time": "2024-08-30T13:27:40.405592Z",
     "start_time": "2024-08-30T13:27:39.772959Z"
    }
   },
   "outputs": [],
   "source": [
    "import matplotlib.pyplot as plt\n",
    "\n",
    "# Assuming results_df is your DataFrame\n",
    "results_df = pd.DataFrame(results_list)\n",
    "\n",
    "# Calculate contributions from Rice Husk zones\n",
    "for zone in range(1, 6):\n",
    "    results_df[f'rice_husk_zone_{zone}'] = results_df['rice_husk_boiler'] * results_df[f'rice_husk_zone_{zone}']\n",
    "\n",
    "# Combine the data into a new DataFrame for plotting\n",
    "plot_data = results_df[['natural_gas_boiler', 'wood_pellet_boiler'] + [f'rice_husk_zone_{zone}' for zone in range(1, 6)]]\n",
    "\n",
    "# Plotting\n",
    "fig, ax1 = plt.subplots(figsize=(7, 4))\n",
    "\n",
    "# Colors: 5 similar shades of green, plus colors for natural gas and wood pellets\n",
    "colors = ['#2E86C1', '#E67E22', '#1E8449', '#229954', '#27AE60', '#2ECC71', '#82E0AA']\n",
    "\n",
    "# Create a stacked bar plot\n",
    "plot_data.plot(kind='bar', stacked=True, ax=ax1, color=colors, edgecolor='black')\n",
    "\n",
    "# Set the x-axis to the final demand values\n",
    "ax1.set_xticks(range(len(final_demand_values)))\n",
    "ax1.set_xticklabels([f'{x:.2f}' for x in final_demand_values])\n",
    "\n",
    "# Set labels and title\n",
    "ax1.set_xlabel('Final Demand for Processed Rice (in Mt/year)')\n",
    "ax1.set_ylabel('Thermal Energy Production Mix [-]')\n",
    "ax1.set_title('Thermal Energy Source Distribution')\n",
    "ax1.set_ylim(0, 1)\n",
    "\n",
    "# Add a scatter plot that doesn't show up in the plot area but is included in the legend\n",
    "ax1.scatter([np.nan], [np.nan], color='red', edgecolor='black', label='GWP')\n",
    "\n",
    "# Adjust legend\n",
    "ax1.legend(['GWP', 'Natural Gas', 'Wood Pellets', 'R. Husk Zone 1', 'R. Husk Zone 2', \n",
    "            'R. Husk Zone 3', 'R. Husk Zone 4', 'R. Husk Zone 5'], \n",
    "           loc='upper center', bbox_to_anchor=(0.5, 1.28), ncol=4)\n",
    "\n",
    "# Create a second y-axis for the GWP impact\n",
    "ax2 = ax1.twinx()\n",
    "ax2.plot(range(len(final_demand_values)), results_df['impact'], color='red', markeredgecolor='black', marker='o', linestyle='')\n",
    "ax2.set_ylabel('GWP (in Mt CO₂-eq)')\n",
    "\n",
    "# Show the plot\n",
    "plt.show()"
   ]
  },
  {
   "cell_type": "markdown",
   "id": "a36e56a6-c83c-4386-812b-870543d48198",
   "metadata": {},
   "source": [
    "<div style=\"border: 2px solid #00CED1; padding: 10px; border-radius: 5px; background-color: #E0FFFF; color: black;\"> \n",
    "  🛠️ This could be implemented as a standard function in <strong>PULPO</strong>.\n",
    "</div>"
   ]
  },
  {
   "cell_type": "markdown",
   "id": "95781796-b6bb-4513-a8ec-40096b9ea43f",
   "metadata": {},
   "source": [
    "<div style=\"border: 2px solid #FF7043; padding: 8px; border-radius: 5px; background-color: #FFCCBC; color: black; text-align: center;\">\n",
    "  <h2 style=\"margin: 0;\">Multi-Objective / Trade-off 🎯</h2>\n",
    "</div>"
   ]
  },
  {
   "cell_type": "markdown",
   "id": "887942fc-4ad2-4c19-a71f-fd522a7f4767",
   "metadata": {},
   "source": [
    "In this section, we will first optimize the system using the $\\textcolor{FireBrick}{\\text{economic flows}}$ as objective, and then analyse the trade-off. To that end, we will create a new pulpo_worker, which imports both impact categories. For now, we specify a weight of 0 for the environmental and a weight of 1 for the economic objective:"
   ]
  },
  {
   "cell_type": "code",
   "execution_count": null,
   "id": "550fca10-91e6-4408-9757-22fe58641a43",
   "metadata": {
    "ExecuteTime": {
     "end_time": "2024-08-30T13:27:40.425352Z",
     "start_time": "2024-08-30T13:27:40.406143Z"
    }
   },
   "outputs": [],
   "source": [
    "methods = {\"('my project', 'climate change')\": 0, \"('my project', 'economic flow')\": 1}"
   ]
  },
  {
   "cell_type": "code",
   "execution_count": null,
   "id": "7a0f9881-c2db-45a1-bfb7-bb98f97be656",
   "metadata": {
    "ExecuteTime": {
     "end_time": "2024-08-30T13:27:40.456550Z",
     "start_time": "2024-08-30T13:27:40.426383Z"
    }
   },
   "outputs": [],
   "source": [
    "pulpo_worker_multi = pulpo.PulpoOptimizer(project, database, methods, directory)\n",
    "pulpo_worker_multi.get_lci_data()"
   ]
  },
  {
   "cell_type": "markdown",
   "id": "c2952002-ae8e-40f7-ba63-697188384693",
   "metadata": {},
   "source": [
    "With the worker created, we can proceed to instantiate and solve the problem, now with the economic objective function:"
   ]
  },
  {
   "cell_type": "code",
   "execution_count": null,
   "id": "519eb570-6855-4ba5-b9d5-287435493466",
   "metadata": {
    "ExecuteTime": {
     "end_time": "2024-08-30T13:27:40.602395Z",
     "start_time": "2024-08-30T13:27:40.457516Z"
    }
   },
   "outputs": [],
   "source": [
    "pulpo_worker_multi.instantiate(choices=choices_constrained, demand=demand, upper_limit=upper_limit)\n",
    "results = pulpo_worker_multi.solve()"
   ]
  },
  {
   "cell_type": "code",
   "execution_count": null,
   "id": "458f5a19-7659-4e52-985a-2a9ff8a7c437",
   "metadata": {
    "ExecuteTime": {
     "end_time": "2024-08-30T13:27:40.681516Z",
     "start_time": "2024-08-30T13:27:40.603408Z"
    },
    "scrolled": true
   },
   "outputs": [],
   "source": [
    "pulpo_worker_multi.save_results(choices=choices, demand=demand_thermal, name='rice_example_economic.xlsx')\n",
    "pulpo_worker_multi.summarize_results(choices=choices, demand=demand, zeroes=True)"
   ]
  },
  {
   "cell_type": "markdown",
   "id": "4fa1bd4d-fa39-4db3-8e78-061ca9a1d20a",
   "metadata": {},
   "source": [
    "As anticipated, the natural gas option minimizes costs (0.56 $/kg processed rice). However, this cost reduction leads to a significant increase in the climate change impact (1.20 → 1.60 kg CO2e/kg processed rice). Given these trade-offs, how does the Pareto front appear? For that purpose, we are going to use the epsilon-constrained method, constraining the environmental objective between the values corresponding to the environmental optimum and the economic optimum:"
   ]
  },
  {
   "cell_type": "code",
   "execution_count": null,
   "id": "b62f06c9-a1f1-4224-80b1-04ce8bcad372",
   "metadata": {
    "ExecuteTime": {
     "end_time": "2024-08-30T13:27:40.697517Z",
     "start_time": "2024-08-30T13:27:40.682517Z"
    }
   },
   "outputs": [],
   "source": [
    "lower_impact = pulpo_worker.instance.impacts[\"('my project', 'climate change')\"].value\n",
    "upper_impact = pulpo_worker_multi.instance.impacts_calculated[\"('my project', 'climate change')\"]\n",
    "epsilon_list = np.linspace(lower_impact, upper_impact, num=10)"
   ]
  },
  {
   "cell_type": "markdown",
   "id": "13401b01-11ed-4d26-ac77-aab0f92a0469",
   "metadata": {},
   "source": [
    "Indicator constraints can be specified in PULPO using the `upper_imp_limit` parameter of the instantiate function, as can be seen in the loop below:"
   ]
  },
  {
   "cell_type": "code",
   "execution_count": null,
   "id": "004a0177-38f7-47b4-bc73-dc059730af2c",
   "metadata": {
    "ExecuteTime": {
     "end_time": "2024-08-30T13:27:41.975365Z",
     "start_time": "2024-08-30T13:27:40.698517Z"
    },
    "scrolled": true
   },
   "outputs": [],
   "source": [
    "# Initialize an empty list to store the Pareto front data\n",
    "pareto_front = []\n",
    "\n",
    "gw_category = \"('my project', 'climate change')\"\n",
    "ef_category = \"('my project', 'economic flow')\"\n",
    "\n",
    "for epsilon in epsilon_list:\n",
    "    # Adjust the internal objective weights\n",
    "    epsilon_constraint = {\"('my project', 'climate change')\": epsilon}\n",
    "    pulpo_worker_multi.instantiate(choices=choices_constrained, demand=demand, upper_limit=upper_limit, upper_imp_limit=epsilon_constraint)\n",
    "    results = pulpo_worker_multi.solve()\n",
    "\n",
    "    # Calculate the impacts\n",
    "    impacts = {x: pulpo_worker_multi.instance.impacts[x].value for x in pulpo_worker_multi.instance.impacts}\n",
    "    \n",
    "    # Save the impacts in the Pareto front list (cost divided by 1000)\n",
    "    pareto_front.append((impacts[ef_category]/1000, impacts[gw_category]))\n",
    "    \n",
    "    # Print the impacts for each iteration\n",
    "    print(f\"Cost [$/kg processed rice]:{impacts[ef_category]/1000}\")\n",
    "    print(f\"GWP [kg CO2-eq/kg processed rice]: {impacts[gw_category]}\")\n",
    "    print()"
   ]
  },
  {
   "cell_type": "code",
   "execution_count": null,
   "id": "05ddcbd8-5294-4acc-8768-9c52bcc0caa5",
   "metadata": {
    "ExecuteTime": {
     "end_time": "2024-08-30T13:27:42.052422Z",
     "start_time": "2024-08-30T13:27:41.977563Z"
    }
   },
   "outputs": [],
   "source": [
    "# Convert pareto_front into two separate lists for plotting\n",
    "costs, gwps = zip(*pareto_front)\n",
    "\n",
    "# Create the Pareto front plot\n",
    "plt.figure(figsize=(5, 4))\n",
    "plt.plot(costs, gwps, marker='o', color='b', linestyle=':', linewidth=2, markersize=10, markeredgecolor='black')\n",
    "\n",
    "# Set labels\n",
    "plt.xlabel('Cost (in $/kg processed rice)', fontsize=14)\n",
    "plt.ylabel('GWP (in Mt CO₂-eq)', fontsize=14)\n",
    "\n",
    "# Add grid for better readability\n",
    "plt.grid(True)\n",
    "\n",
    "# Display the plot\n",
    "plt.savefig('filename.png', dpi=300, bbox_inches='tight')\n",
    "plt.show()"
   ]
  },
  {
   "cell_type": "markdown",
   "id": "58ac4011-0610-4ab4-b7bd-f2a3e73d777d",
   "metadata": {},
   "source": [
    "This type of (_constrained_) trade-off assessment highlights the inherent compromises involved in designing a production system with multiple criteria. In this example, the two extreme points (known as **anchor** points) demonstrate that a significant reduction in GWP (from 1.60 to 1.25 kg CO2-eq) can be achieved with only a slight increase in cost (from 0.560 to 0.566 \\$). The Pareto front, defined by the 10 points shown, illustrates how balanced solutions can be realized."
   ]
  },
  {
   "cell_type": "markdown",
   "id": "654c3ab4-9144-455e-a35e-9294cd906380",
   "metadata": {},
   "source": [
    "<div style=\"border: 2px solid #00CED1; padding: 10px; border-radius: 5px; background-color: #E0FFFF; color: black;\"> \n",
    "  🛠️ This could be implemented as a standard function in <strong>PULPO</strong>.\n",
    "</div>"
   ]
  },
  {
   "cell_type": "markdown",
   "id": "1a1f4fcb-f6e9-4ff3-8b90-75782a95da0c",
   "metadata": {},
   "source": [
    "<div style=\"border: 2px solid #B0B0B0; padding: 8px; border-radius: 5px; background-color: #E0E0E0; color: black; text-align: center;\">\n",
    "  <h3 style=\"margin: 0;\">Internal Constraint due to Multi-Functionality</h3>\n",
    "</div>"
   ]
  },
  {
   "cell_type": "markdown",
   "id": "6d9522ec-3916-4a55-b532-002134b88b87",
   "metadata": {},
   "source": [
    "Following the notion highlighted at the end of the previous section, let's investigate what happens if more thermal energy is required than the one that can be provided by the rice husk. This is done by adding another demand for the functional unit:"
   ]
  },
  {
   "cell_type": "code",
   "execution_count": null,
   "id": "0026df97-f4d9-4c76-809a-b1940ff8eedc",
   "metadata": {},
   "outputs": [],
   "source": [
    "demand_thermal = {rice_factory[0]: 1,\n",
    "          'Thermal Energy (TWh)': 10}"
   ]
  },
  {
   "cell_type": "code",
   "execution_count": null,
   "id": "fcdf067a-c3cd-4c24-a2a2-eaa7b840e12b",
   "metadata": {},
   "outputs": [],
   "source": [
    "pulpo_worker.instantiate(choices=choices, demand=demand_thermal)\n",
    "results = pulpo_worker.solve()"
   ]
  },
  {
   "cell_type": "code",
   "execution_count": null,
   "id": "b92a3bb5-6ad2-497c-a60d-1461e97b8e6b",
   "metadata": {},
   "outputs": [],
   "source": [
    "pulpo_worker.summarize_results(choices=choices, demand=demand_thermal, zeroes=True)"
   ]
  },
  {
   "cell_type": "markdown",
   "id": "f5967985-0530-47d1-9784-7787db0a5bc2",
   "metadata": {},
   "source": [
    "As can be seen from the choices made by the optimizer, the rice husk boiler is used to its full capacity, conditioned by the demand for rice:\n",
    "\n",
    "$$\n",
    "1 \\, \\text{Mt processed rice} \\times 1.15 \\frac{\\text{Mt unprocessed rice}}{\\text{Mt processed rice}} \\times 0.6 \\frac{\\text{Mt Rice husk}}{\\text{Mt unprocessed rice}} = 0.69 \\, \\text{Mt Rice husk} \n",
    "$$\n",
    "\n",
    "The rest of the thermal energy is provided by the wood pellet boiler.\n"
   ]
  }
 ],
 "metadata": {
  "kernelspec": {
   "display_name": "Python 3 (ipykernel)",
   "language": "python",
   "name": "python3"
  },
  "language_info": {
   "codemirror_mode": {
    "name": "ipython",
    "version": 3
   },
   "file_extension": ".py",
   "mimetype": "text/x-python",
   "name": "python",
   "nbconvert_exporter": "python",
   "pygments_lexer": "ipython3",
   "version": "3.10.14"
  }
 },
 "nbformat": 4,
 "nbformat_minor": 5
}
