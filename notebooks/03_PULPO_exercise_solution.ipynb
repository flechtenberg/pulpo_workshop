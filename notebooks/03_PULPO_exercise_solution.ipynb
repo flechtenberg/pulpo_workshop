{
 "cells": [
  {
   "cell_type": "markdown",
   "id": "235f0dc1-8628-4bdf-b6f0-0a39917c8403",
   "metadata": {
    "execution": {
     "iopub.execute_input": "2024-09-03T08:00:53.813136Z",
     "iopub.status.busy": "2024-09-03T08:00:53.813136Z",
     "iopub.status.idle": "2024-09-03T08:00:53.828977Z",
     "shell.execute_reply": "2024-09-03T08:00:53.828761Z",
     "shell.execute_reply.started": "2024-09-03T08:00:53.813136Z"
    }
   },
   "source": [
    "<div style=\"border: 2px solid #FFA500; padding: 10px; border-radius: 5px; background-color: #FFFACD; color: black; text-align: center;\">\n",
    "  <h1 style=\"margin: 0;\">PULPO 🐙 Exercise</h1>\n",
    "</div>"
   ]
  },
  {
   "cell_type": "markdown",
   "id": "415fedab-3cbf-4421-b5c1-5b38e2b11deb",
   "metadata": {},
   "source": [
    "This exercise is crafted to test your understanding of PULPO syntax.\n",
    "\n",
    "You’ll be working with a custom-built, generic LCI database designed specifically for this task. Here’s how the elements are represented:\n",
    "- **Products**: Numbered simply as 1, 2, etc.\n",
    "- **Processes**: Denoted by Latin letters (A, B, etc.).\n",
    "- **Regions**: Identified by Greek letters ($\\alpha$, $\\beta$, etc.).\n",
    "- **Environmental Flows**: Labeled as e1, e2, etc.\n",
    "- **Methods**: Named m1, m2, etc., all categorized under \"generated_system_example\".\n",
    "\n",
    "### Your Challenge:\n",
    "1.  Introduce a new process in a specific region to produce a chosen product.\n",
    "2.  Measure the environmental impact of this process using a specified impact assessment method.\n",
    "3.  Identify the best existing process alternative in the region for producing the same product.\n",
    "4.  Investigate whether a better process alternative exists when considering other regions.\n",
    "5.  Explore if the optimal solution changes when adjusting the objective.\n",
    "6.  Find a trade-off solution that minimizes one impact category while keeping another in check."
   ]
  },
  {
   "cell_type": "markdown",
   "id": "60426fc7-7195-48df-a9a0-2ea9b1a4bbcc",
   "metadata": {},
   "source": [
    "____\n",
    "Import the necessary libraries"
   ]
  },
  {
   "cell_type": "code",
   "execution_count": 1,
   "id": "initial_id",
   "metadata": {
    "execution": {
     "iopub.execute_input": "2024-09-04T13:29:38.460915Z",
     "iopub.status.busy": "2024-09-04T13:29:38.460915Z",
     "iopub.status.idle": "2024-09-04T13:29:40.384437Z",
     "shell.execute_reply": "2024-09-04T13:29:40.384437Z",
     "shell.execute_reply.started": "2024-09-04T13:29:38.460915Z"
    }
   },
   "outputs": [],
   "source": [
    "import os\n",
    "import sys\n",
    "sys.path.append(r'C:\\Users\\Usuario\\Documents\\PhD Documents\\Python\\advanced_lca\\pulpo') # Not needed anymore when the package is installed via pip\n",
    "from pulpo import pulpo\n",
    "\n",
    "import numpy as np\n",
    "np.NaN = np.nan\n",
    "import pandas as pd\n",
    "import copy\n",
    "import matplotlib.pyplot as plt"
   ]
  },
  {
   "cell_type": "markdown",
   "id": "b73e4a11-653d-4a8b-8ed4-0f8c0336b7c4",
   "metadata": {},
   "source": [
    "If you want to perform the visualization of the graph, install:"
   ]
  },
  {
   "cell_type": "code",
   "execution_count": 2,
   "id": "86e78c33-ca46-4132-8d45-aacd98fc47d8",
   "metadata": {
    "execution": {
     "iopub.execute_input": "2024-09-04T13:29:40.386437Z",
     "iopub.status.busy": "2024-09-04T13:29:40.385437Z",
     "iopub.status.idle": "2024-09-04T13:29:40.400437Z",
     "shell.execute_reply": "2024-09-04T13:29:40.400437Z",
     "shell.execute_reply.started": "2024-09-04T13:29:40.386437Z"
    }
   },
   "outputs": [],
   "source": [
    "#!pip install python-louvain\n",
    "#!pip install networkx"
   ]
  },
  {
   "cell_type": "code",
   "execution_count": 3,
   "id": "8c36c848-7323-4f09-8747-095bb51af48c",
   "metadata": {
    "execution": {
     "iopub.execute_input": "2024-09-04T13:29:40.402438Z",
     "iopub.status.busy": "2024-09-04T13:29:40.402438Z",
     "iopub.status.idle": "2024-09-04T13:29:40.509584Z",
     "shell.execute_reply": "2024-09-04T13:29:40.509584Z",
     "shell.execute_reply.started": "2024-09-04T13:29:40.402438Z"
    }
   },
   "outputs": [],
   "source": [
    "import networkx as nx\n",
    "import community as community_louvain  # For Louvain clustering"
   ]
  },
  {
   "cell_type": "markdown",
   "id": "6fcb78b0-9393-47fb-a548-f861759375f9",
   "metadata": {},
   "source": [
    "_____\n",
    "Install the generic LCI database via the `install_generic_db` function of pulpo. This database can be tailored with various parameters:"
   ]
  },
  {
   "cell_type": "code",
   "execution_count": 4,
   "id": "52008ee8c61fe06c",
   "metadata": {
    "execution": {
     "iopub.execute_input": "2024-09-04T13:29:40.510584Z",
     "iopub.status.busy": "2024-09-04T13:29:40.510584Z",
     "iopub.status.idle": "2024-09-04T13:31:51.130365Z",
     "shell.execute_reply": "2024-09-04T13:31:51.130365Z",
     "shell.execute_reply.started": "2024-09-04T13:29:40.510584Z"
    }
   },
   "outputs": [
    {
     "name": "stderr",
     "output_type": "stream",
     "text": [
      "Writing activities to SQLite3 database:\n"
     ]
    },
    {
     "name": "stdout",
     "output_type": "stream",
     "text": [
      "Project 'generic_example' already exists. Deleting existing databases.\n",
      "Vacuuming database \n",
      "Proceeding with creating both technosphere and biosphere databases.\n"
     ]
    },
    {
     "name": "stderr",
     "output_type": "stream",
     "text": [
      "0% [########] 100% | ETA: 00:00:00\n",
      "Total time elapsed: 00:00:00\n"
     ]
    },
    {
     "name": "stdout",
     "output_type": "stream",
     "text": [
      "Title: Writing activities to SQLite3 database:\n",
      "  Started: 09/04/2024 15:29:40\n",
      "  Finished: 09/04/2024 15:29:40\n",
      "  Total time elapsed: 00:00:00\n",
      "  CPU %: 0.00\n",
      "  Memory %: 0.67\n",
      "Biosphere database created\n",
      "Technosphere database created\n",
      "Exchanges added to the technosphere and market activities in the database\n",
      "LCIA methods and CFs defined\n"
     ]
    }
   ],
   "source": [
    "project = \"generic_example\"\n",
    "database = \"generic_db\"\n",
    "n_prod = 50      # Number of products to generate\n",
    "n_proc = 8      # Maximum number of processes per product\n",
    "n_reg = 4       # Number of regions where processes can be active\n",
    "n_inputs = 6    # Maximum number of inputs per process\n",
    "n_flows = 8     # Number of environmental flows to generate\n",
    "n_methods = 3   # Number of impact assessment methods to create\n",
    "seed = 100      # Seed for reproducibility (optional)\n",
    "return_data = True  # If True, returns the generated matrices\n",
    "\n",
    "# Install the generic database with specified parameters (Can take a while!)\n",
    "if True:\n",
    "    technosphere_matrix, biosphere_matrix, characterization_matrices = pulpo.install_generic_db(\n",
    "        project=project, \n",
    "        database=database, \n",
    "        n_prod=n_prod, \n",
    "        n_proc=n_proc, \n",
    "        n_reg=n_reg, \n",
    "        n_inputs=n_inputs, \n",
    "        n_flows=n_flows, \n",
    "        n_methods=n_methods, \n",
    "        seed=seed, \n",
    "        return_data=return_data\n",
    "    )"
   ]
  },
  {
   "cell_type": "markdown",
   "id": "60085efd-29d9-4d2d-beb6-c7830276ff5f",
   "metadata": {},
   "source": [
    "#### Visualize the Technosphere"
   ]
  },
  {
   "cell_type": "code",
   "execution_count": 5,
   "id": "692fb54d-2a46-4fc4-82d3-fef9a4252746",
   "metadata": {
    "execution": {
     "iopub.execute_input": "2024-09-04T13:31:51.131366Z",
     "iopub.status.busy": "2024-09-04T13:31:51.131366Z",
     "iopub.status.idle": "2024-09-04T13:31:52.623735Z",
     "shell.execute_reply": "2024-09-04T13:31:52.623735Z",
     "shell.execute_reply.started": "2024-09-04T13:31:51.131366Z"
    }
   },
   "outputs": [
    {
     "data": {
      "image/png": "[encoded data removed]",
      "text/plain": [
       "<Figure size 800x400 with 1 Axes>"
      ]
     },
     "metadata": {},
     "output_type": "display_data"
    }
   ],
   "source": [
    "# Create a graph from the adjacency matrix\n",
    "# Set all elements that are exactly 1 to 0\n",
    "technosphere_matrix[technosphere_matrix == 1] = 0\n",
    "\n",
    "G = nx.from_numpy_array(np.abs(technosphere_matrix))\n",
    "\n",
    "# Perform community detection (clustering) using the Louvain method\n",
    "partition = community_louvain.best_partition(G)\n",
    "\n",
    "# Generate a color palette for the clusters\n",
    "unique_clusters = set(partition.values())\n",
    "colors = plt.cm.rainbow(np.linspace(0, 1, len(unique_clusters)))\n",
    "\n",
    "# Assign colors to nodes based on their cluster\n",
    "node_colors = [colors[partition[node]] for node in G.nodes()]\n",
    "\n",
    "# Draw the graph\n",
    "plt.figure(figsize=(8, 4))\n",
    "pos = nx.spring_layout(G, seed=100)  # Position nodes using the spring layout algorithm\n",
    "\n",
    "nx.draw_networkx_nodes(G, pos, node_size=20, node_color=node_colors, edgecolors='black', alpha=0.9)\n",
    "nx.draw_networkx_edges(G, pos, edge_color=\"gray\", alpha=0.5)\n",
    "plt.title(\"Technosphere Visualization with Clustering\", fontsize=16)\n",
    "plt.show()"
   ]
  },
  {
   "cell_type": "markdown",
   "id": "47e7099f-6863-4a76-ba2f-bf28ecbe3dff",
   "metadata": {},
   "source": [
    "When visualizing the network using the Louvain clustering algorithm, the four distinct regions are effectively identified. This clustering occurs because the generic database is structured so that no transportation between regions takes place, naturally leading to these well-defined clusters. Additionally, 20 processes are isolated, meaning they neither contribute to any market nor receive inputs from the technosphere."
   ]
  },
  {
   "cell_type": "markdown",
   "id": "140eab16-5756-4254-be89-183a70a62d4c",
   "metadata": {},
   "source": [
    "Here are the regions, for copy and paste purpose:\n",
    "\n",
    "1. **Alpha**: $\\alpha$\n",
    "2. **Beta**: $\\beta$\n",
    "3. **Gamma**: $\\gamma$\n",
    "4. **Delta**: $\\delta$\n",
    "______"
   ]
  },
  {
   "cell_type": "markdown",
   "id": "74943567-f393-4363-834f-32b834d5ec5d",
   "metadata": {},
   "source": [
    "### Task 1: Introduce a New Process\n",
    "\n",
    "**Objective**: Introduce a new process in a specific region to produce a chosen product.\n",
    "\n",
    "First, use PULPO to identify how many activities currently produce **\"Product 22\"**."
   ]
  },
  {
   "cell_type": "code",
   "execution_count": 6,
   "id": "a11fd1a4-fcd8-4221-b000-38e84e269bb8",
   "metadata": {
    "execution": {
     "iopub.execute_input": "2024-09-04T13:31:52.625644Z",
     "iopub.status.busy": "2024-09-04T13:31:52.624641Z",
     "iopub.status.idle": "2024-09-04T13:31:52.795367Z",
     "shell.execute_reply": "2024-09-04T13:31:52.795367Z",
     "shell.execute_reply.started": "2024-09-04T13:31:52.625644Z"
    }
   },
   "outputs": [],
   "source": [
    "notebook_dir = os.path.dirname(os.getcwd())\n",
    "directory = os.path.join(notebook_dir, 'data')\n",
    "method = \"\"\n",
    "pulpo_worker = pulpo.PulpoOptimizer(project, database, method, directory)\n",
    "pulpo_worker.get_lci_data()"
   ]
  },
  {
   "cell_type": "code",
   "execution_count": 7,
   "id": "999fb3cc-ce34-4214-a409-6a9a914715e3",
   "metadata": {
    "execution": {
     "iopub.execute_input": "2024-09-04T13:31:52.796363Z",
     "iopub.status.busy": "2024-09-04T13:31:52.796363Z",
     "iopub.status.idle": "2024-09-04T13:31:52.813301Z",
     "shell.execute_reply": "2024-09-04T13:31:52.811366Z",
     "shell.execute_reply.started": "2024-09-04T13:31:52.796363Z"
    }
   },
   "outputs": [],
   "source": [
    "#### Fill the gap!"
   ]
  },
  {
   "cell_type": "code",
   "execution_count": 8,
   "id": "61ff6e45-a928-44d6-9a7e-11aad0b082b0",
   "metadata": {
    "execution": {
     "iopub.execute_input": "2024-09-04T13:31:52.814366Z",
     "iopub.status.busy": "2024-09-04T13:31:52.814366Z",
     "iopub.status.idle": "2024-09-04T13:31:52.857947Z",
     "shell.execute_reply": "2024-09-04T13:31:52.857947Z",
     "shell.execute_reply.started": "2024-09-04T13:31:52.814366Z"
    }
   },
   "outputs": [
    {
     "data": {
      "text/html": [
       "<div>\n",
       "<style scoped>\n",
       "    .dataframe tbody tr th:only-of-type {\n",
       "        vertical-align: middle;\n",
       "    }\n",
       "\n",
       "    .dataframe tbody tr th {\n",
       "        vertical-align: top;\n",
       "    }\n",
       "\n",
       "    .dataframe thead th {\n",
       "        text-align: right;\n",
       "    }\n",
       "</style>\n",
       "<table border=\"1\" class=\"dataframe\">\n",
       "  <thead>\n",
       "    <tr style=\"text-align: right;\">\n",
       "      <th></th>\n",
       "      <th>code</th>\n",
       "      <th>database</th>\n",
       "      <th>location</th>\n",
       "      <th>name</th>\n",
       "      <th>reference product</th>\n",
       "      <th>unit</th>\n",
       "    </tr>\n",
       "  </thead>\n",
       "  <tbody>\n",
       "    <tr>\n",
       "      <th>0</th>\n",
       "      <td>22_α</td>\n",
       "      <td>generic_db</td>\n",
       "      <td>α</td>\n",
       "      <td>Market 22_α</td>\n",
       "      <td>Product 22</td>\n",
       "      <td>unit</td>\n",
       "    </tr>\n",
       "    <tr>\n",
       "      <th>1</th>\n",
       "      <td>22_D_γ</td>\n",
       "      <td>generic_db</td>\n",
       "      <td>γ</td>\n",
       "      <td>Process 22_D_γ</td>\n",
       "      <td>Product 22</td>\n",
       "      <td>unit</td>\n",
       "    </tr>\n",
       "    <tr>\n",
       "      <th>2</th>\n",
       "      <td>22_A_α</td>\n",
       "      <td>generic_db</td>\n",
       "      <td>α</td>\n",
       "      <td>Process 22_A_α</td>\n",
       "      <td>Product 22</td>\n",
       "      <td>unit</td>\n",
       "    </tr>\n",
       "    <tr>\n",
       "      <th>3</th>\n",
       "      <td>22_G_β</td>\n",
       "      <td>generic_db</td>\n",
       "      <td>β</td>\n",
       "      <td>Process 22_G_β</td>\n",
       "      <td>Product 22</td>\n",
       "      <td>unit</td>\n",
       "    </tr>\n",
       "    <tr>\n",
       "      <th>4</th>\n",
       "      <td>22_B_γ</td>\n",
       "      <td>generic_db</td>\n",
       "      <td>γ</td>\n",
       "      <td>Process 22_B_γ</td>\n",
       "      <td>Product 22</td>\n",
       "      <td>unit</td>\n",
       "    </tr>\n",
       "    <tr>\n",
       "      <th>5</th>\n",
       "      <td>22_A_δ</td>\n",
       "      <td>generic_db</td>\n",
       "      <td>δ</td>\n",
       "      <td>Process 22_A_δ</td>\n",
       "      <td>Product 22</td>\n",
       "      <td>unit</td>\n",
       "    </tr>\n",
       "    <tr>\n",
       "      <th>6</th>\n",
       "      <td>22_δ</td>\n",
       "      <td>generic_db</td>\n",
       "      <td>δ</td>\n",
       "      <td>Market 22_δ</td>\n",
       "      <td>Product 22</td>\n",
       "      <td>unit</td>\n",
       "    </tr>\n",
       "    <tr>\n",
       "      <th>7</th>\n",
       "      <td>22_E_δ</td>\n",
       "      <td>generic_db</td>\n",
       "      <td>δ</td>\n",
       "      <td>Process 22_E_δ</td>\n",
       "      <td>Product 22</td>\n",
       "      <td>unit</td>\n",
       "    </tr>\n",
       "    <tr>\n",
       "      <th>8</th>\n",
       "      <td>22_β</td>\n",
       "      <td>generic_db</td>\n",
       "      <td>β</td>\n",
       "      <td>Market 22_β</td>\n",
       "      <td>Product 22</td>\n",
       "      <td>unit</td>\n",
       "    </tr>\n",
       "    <tr>\n",
       "      <th>9</th>\n",
       "      <td>22_E_β</td>\n",
       "      <td>generic_db</td>\n",
       "      <td>β</td>\n",
       "      <td>Process 22_E_β</td>\n",
       "      <td>Product 22</td>\n",
       "      <td>unit</td>\n",
       "    </tr>\n",
       "    <tr>\n",
       "      <th>10</th>\n",
       "      <td>22_γ</td>\n",
       "      <td>generic_db</td>\n",
       "      <td>γ</td>\n",
       "      <td>Market 22_γ</td>\n",
       "      <td>Product 22</td>\n",
       "      <td>unit</td>\n",
       "    </tr>\n",
       "    <tr>\n",
       "      <th>11</th>\n",
       "      <td>22_H_β</td>\n",
       "      <td>generic_db</td>\n",
       "      <td>β</td>\n",
       "      <td>Process 22_H_β</td>\n",
       "      <td>Product 22</td>\n",
       "      <td>unit</td>\n",
       "    </tr>\n",
       "  </tbody>\n",
       "</table>\n",
       "</div>"
      ],
      "text/plain": [
       "      code    database location            name reference product  unit\n",
       "0     22_α  generic_db        α     Market 22_α        Product 22  unit\n",
       "1   22_D_γ  generic_db        γ  Process 22_D_γ        Product 22  unit\n",
       "2   22_A_α  generic_db        α  Process 22_A_α        Product 22  unit\n",
       "3   22_G_β  generic_db        β  Process 22_G_β        Product 22  unit\n",
       "4   22_B_γ  generic_db        γ  Process 22_B_γ        Product 22  unit\n",
       "5   22_A_δ  generic_db        δ  Process 22_A_δ        Product 22  unit\n",
       "6     22_δ  generic_db        δ     Market 22_δ        Product 22  unit\n",
       "7   22_E_δ  generic_db        δ  Process 22_E_δ        Product 22  unit\n",
       "8     22_β  generic_db        β     Market 22_β        Product 22  unit\n",
       "9   22_E_β  generic_db        β  Process 22_E_β        Product 22  unit\n",
       "10    22_γ  generic_db        γ     Market 22_γ        Product 22  unit\n",
       "11  22_H_β  generic_db        β  Process 22_H_β        Product 22  unit"
      ]
     },
     "execution_count": 8,
     "metadata": {},
     "output_type": "execute_result"
    }
   ],
   "source": [
    "product_22 = pulpo_worker.retrieve_activities(reference_products=['Product 22'])\n",
    "pd.DataFrame(product_22)"
   ]
  },
  {
   "cell_type": "markdown",
   "id": "3090df8b-4429-497c-a6e4-d3be8d1aea8b",
   "metadata": {},
   "source": [
    "If executed correctly, you should discover that there are **8 processes** (_6 types: A, B, D, E, G, and H_) producing **product 22** across **4 regions** (markets)."
   ]
  },
  {
   "cell_type": "markdown",
   "id": "d270e990-707a-4f98-9d10-71e5f207d8fc",
   "metadata": {},
   "source": [
    "Your company, located in region **β**, has developed an innovative process called **\"X\"** to produce **product 22**. This new technology boasts very low emissions, making it a promising option for the industry’s goal of reducing impacts in the **\"m1\"** impact category, particularly by minimizing **\"e2\"** (environmental flow) emissions.\n",
    "\n",
    "- **Technosphere**:\n",
    "  - 0.1 units of **product 20** from the market in region **β**\n",
    "\n",
    "- **Biosphere**:\n",
    "  - 0.01 units of **e2** emissions\n",
    "  - 0.10 units of **e3** emissions\n",
    "  - 1.00 units of **e4** emissions\n",
    "\n",
    "Using Brightway syntax, implement this new process \"X\" in the database.\n"
   ]
  },
  {
   "cell_type": "code",
   "execution_count": 9,
   "id": "00b018ad-150f-47af-aa9c-2feafb6a21d9",
   "metadata": {
    "execution": {
     "iopub.execute_input": "2024-09-04T13:31:52.858947Z",
     "iopub.status.busy": "2024-09-04T13:31:52.858947Z",
     "iopub.status.idle": "2024-09-04T13:31:52.974660Z",
     "shell.execute_reply": "2024-09-04T13:31:52.974660Z",
     "shell.execute_reply.started": "2024-09-04T13:31:52.858947Z"
    }
   },
   "outputs": [
    {
     "name": "stdout",
     "output_type": "stream",
     "text": [
      "Process 'Process 22_X_β' implemented successfully in the database.\n"
     ]
    }
   ],
   "source": [
    "import brightway2 as bw\n",
    "\n",
    "# Set the current project\n",
    "bw.projects.set_current(\"generic_example\")\n",
    "\n",
    "# Define the database and process name\n",
    "db = bw.Database(\"generic_db\")\n",
    "process_name = \"Process 22_X_β\"\n",
    "\n",
    "# Check if the activity already exists\n",
    "if process_name not in [act['name'] for act in db]:\n",
    "    # Create the new process \"X\"\n",
    "    new_process = db.new_activity(process_name)\n",
    "    new_process.update({\n",
    "        'name': process_name,\n",
    "        'location': \"β\",  # Greek letter for the region\n",
    "        'reference product': \"Product 22\",\n",
    "        'unit': \"unit\"  # Define the unit\n",
    "    })\n",
    "\n",
    "    # Add technosphere exchange\n",
    "    product_20_market = next(act for act in db if act['reference product'] == \"Product 20\" and act['location'] == \"β\" and \"Market\" in act['name'])\n",
    "    new_process.new_exchange(input=product_20_market.key, amount=0.1, type='technosphere').save()\n",
    "\n",
    "    # Add biosphere exchanges\n",
    "    biosphere = bw.Database(\"biosphere3\")\n",
    "    emissions = {\n",
    "        \"Environmental flow e2\": 0.05,\n",
    "        \"Environmental flow e3\": 0.10,\n",
    "        \"Environmental flow e8\": 5.00\n",
    "    }\n",
    "    for flow_name, amount in emissions.items():\n",
    "        flow = next(flow for flow in biosphere if flow['name'] == flow_name)\n",
    "        new_process.new_exchange(input=flow.key, amount=amount, type='biosphere').save()\n",
    "\n",
    "    new_process.save()\n",
    "    print(f\"Process '{process_name}' implemented successfully in the database.\")\n",
    "else:\n",
    "    print(f\"Process '{process_name}' already exists in the database.\")"
   ]
  },
  {
   "cell_type": "markdown",
   "id": "7bb79cbd-d224-47ff-856e-fbc7b1fc1542",
   "metadata": {},
   "source": [
    "____________\n",
    "### Task 2: Evaluate the New Process\n",
    "\n",
    "**Objective**: Assess the environmental impact of the newly introduced process using a given impact assessment method.\n",
    "\n",
    "After implementing the new process **\"Process 22_X_β\"** in Task 1, your next step is to evaluate its environmental performance. Use PULPO to calculate the impacts of this process (producing 1 unit as FU) using the **\"m1\"** impact assessment method."
   ]
  },
  {
   "cell_type": "markdown",
   "id": "d86b135d-9f40-4df3-8733-0e4eb602e309",
   "metadata": {},
   "source": [
    "<div style=\"border: 2px solid #FF4500; padding: 10px; border-radius: 5px; background-color: #FFEFD5; color: black;\"> \n",
    "  ⚠️ <strong>Warning!</strong> The standard open-source LP solver specified in <strong>PULPO</strong> \n",
    "  (<a href=\"https://pypi.org/project/highspy/\">HiGHs</a>) performs poorly on this database. Consider installing \n",
    "  \"[ipopt](https://anaconda.org/conda-forge/ipopt)\" from the conda package index. Use version <strong>3.11.1</strong>, as there are unknown issues / incompatibilities in later versions.\n",
    "</div>"
   ]
  },
  {
   "cell_type": "code",
   "execution_count": 10,
   "id": "2da88b4a-3178-49e1-8535-81fae848925f",
   "metadata": {
    "execution": {
     "iopub.execute_input": "2024-09-04T13:31:52.975660Z",
     "iopub.status.busy": "2024-09-04T13:31:52.975660Z",
     "iopub.status.idle": "2024-09-04T13:31:52.993533Z",
     "shell.execute_reply": "2024-09-04T13:31:52.992502Z",
     "shell.execute_reply.started": "2024-09-04T13:31:52.975660Z"
    }
   },
   "outputs": [],
   "source": [
    "#!conda install conda-forge::ipopt=3.11.1 -y"
   ]
  },
  {
   "cell_type": "code",
   "execution_count": 11,
   "id": "cc857263-bae7-472b-8036-1ecdd09370b4",
   "metadata": {
    "execution": {
     "iopub.execute_input": "2024-09-04T13:31:52.993533Z",
     "iopub.status.busy": "2024-09-04T13:31:52.993533Z",
     "iopub.status.idle": "2024-09-04T13:31:53.013754Z",
     "shell.execute_reply": "2024-09-04T13:31:53.012756Z",
     "shell.execute_reply.started": "2024-09-04T13:31:52.993533Z"
    }
   },
   "outputs": [],
   "source": [
    "#### Fill the gap!"
   ]
  },
  {
   "cell_type": "code",
   "execution_count": 12,
   "id": "00c47ed2-a48f-4ef8-884c-8332f34f78a4",
   "metadata": {
    "execution": {
     "iopub.execute_input": "2024-09-04T13:31:53.019696Z",
     "iopub.status.busy": "2024-09-04T13:31:53.019696Z",
     "iopub.status.idle": "2024-09-04T13:31:53.124654Z",
     "shell.execute_reply": "2024-09-04T13:31:53.123681Z",
     "shell.execute_reply.started": "2024-09-04T13:31:53.019696Z"
    }
   },
   "outputs": [],
   "source": [
    "pulpo_worker.method = {\"('generated_system_example', 'm1')\": 1}\n",
    "pulpo_worker.get_lci_data()"
   ]
  },
  {
   "cell_type": "code",
   "execution_count": 13,
   "id": "d565eacb-20e1-439f-a077-1595c0fb5c92",
   "metadata": {
    "execution": {
     "iopub.execute_input": "2024-09-04T13:31:53.125911Z",
     "iopub.status.busy": "2024-09-04T13:31:53.125911Z",
     "iopub.status.idle": "2024-09-04T13:31:53.167449Z",
     "shell.execute_reply": "2024-09-04T13:31:53.166454Z",
     "shell.execute_reply.started": "2024-09-04T13:31:53.125911Z"
    }
   },
   "outputs": [],
   "source": [
    "process_X = pulpo_worker.retrieve_activities(activities=process_name)"
   ]
  },
  {
   "cell_type": "code",
   "execution_count": 14,
   "id": "1756fccf-a36d-481b-9d1c-30e3a54a8836",
   "metadata": {
    "execution": {
     "iopub.execute_input": "2024-09-04T13:31:53.167449Z",
     "iopub.status.busy": "2024-09-04T13:31:53.167449Z",
     "iopub.status.idle": "2024-09-04T13:31:53.183123Z",
     "shell.execute_reply": "2024-09-04T13:31:53.182382Z",
     "shell.execute_reply.started": "2024-09-04T13:31:53.167449Z"
    }
   },
   "outputs": [],
   "source": [
    "demand = {process_X[0]: 1}"
   ]
  },
  {
   "cell_type": "code",
   "execution_count": 15,
   "id": "0e7bf23b-86db-4212-8f12-8f03e85b0d5b",
   "metadata": {
    "execution": {
     "iopub.execute_input": "2024-09-04T13:31:53.184012Z",
     "iopub.status.busy": "2024-09-04T13:31:53.183123Z",
     "iopub.status.idle": "2024-09-04T13:31:53.261063Z",
     "shell.execute_reply": "2024-09-04T13:31:53.261063Z",
     "shell.execute_reply.started": "2024-09-04T13:31:53.184012Z"
    }
   },
   "outputs": [
    {
     "name": "stdout",
     "output_type": "stream",
     "text": [
      "Creating Instance\n",
      "Instance created\n"
     ]
    }
   ],
   "source": [
    "pulpo_worker.instantiate(demand=demand)"
   ]
  },
  {
   "cell_type": "code",
   "execution_count": 16,
   "id": "5156a7f5-d175-4b9c-9e01-c43766042f24",
   "metadata": {
    "execution": {
     "iopub.execute_input": "2024-09-04T13:31:53.262059Z",
     "iopub.status.busy": "2024-09-04T13:31:53.262059Z",
     "iopub.status.idle": "2024-09-04T13:31:53.493644Z",
     "shell.execute_reply": "2024-09-04T13:31:53.493644Z",
     "shell.execute_reply.started": "2024-09-04T13:31:53.262059Z"
    }
   },
   "outputs": [],
   "source": [
    "results = pulpo_worker.solve(solver_name='ipopt')"
   ]
  },
  {
   "cell_type": "code",
   "execution_count": 17,
   "id": "66af3c09-7252-428f-a9ee-6997d0eaf3d6",
   "metadata": {
    "execution": {
     "iopub.execute_input": "2024-09-04T13:31:53.494641Z",
     "iopub.status.busy": "2024-09-04T13:31:53.494641Z",
     "iopub.status.idle": "2024-09-04T13:31:53.524873Z",
     "shell.execute_reply": "2024-09-04T13:31:53.524873Z",
     "shell.execute_reply.started": "2024-09-04T13:31:53.494641Z"
    }
   },
   "outputs": [
    {
     "name": "stdout",
     "output_type": "stream",
     "text": [
      "The following demand / functional unit has been specified: \n"
     ]
    },
    {
     "data": {
      "text/html": [
       "<div>\n",
       "<style scoped>\n",
       "    .dataframe tbody tr th:only-of-type {\n",
       "        vertical-align: middle;\n",
       "    }\n",
       "\n",
       "    .dataframe tbody tr th {\n",
       "        vertical-align: top;\n",
       "    }\n",
       "\n",
       "    .dataframe thead th {\n",
       "        text-align: right;\n",
       "    }\n",
       "</style>\n",
       "<table border=\"1\" class=\"dataframe\">\n",
       "  <thead>\n",
       "    <tr style=\"text-align: right;\">\n",
       "      <th></th>\n",
       "      <th>Demand</th>\n",
       "    </tr>\n",
       "  </thead>\n",
       "  <tbody>\n",
       "    <tr>\n",
       "      <th>Process 22_X_β | Product 22 | β</th>\n",
       "      <td>1</td>\n",
       "    </tr>\n",
       "  </tbody>\n",
       "</table>\n",
       "</div>"
      ],
      "text/plain": [
       "                                 Demand\n",
       "Process 22_X_β | Product 22 | β       1"
      ]
     },
     "metadata": {},
     "output_type": "display_data"
    },
    {
     "name": "stdout",
     "output_type": "stream",
     "text": [
      "\n",
      "These are the impacts contained in the objective:\n"
     ]
    },
    {
     "data": {
      "text/html": [
       "<div>\n",
       "<style scoped>\n",
       "    .dataframe tbody tr th:only-of-type {\n",
       "        vertical-align: middle;\n",
       "    }\n",
       "\n",
       "    .dataframe tbody tr th {\n",
       "        vertical-align: top;\n",
       "    }\n",
       "\n",
       "    .dataframe thead th {\n",
       "        text-align: right;\n",
       "    }\n",
       "</style>\n",
       "<table border=\"1\" class=\"dataframe\">\n",
       "  <thead>\n",
       "    <tr style=\"text-align: right;\">\n",
       "      <th></th>\n",
       "      <th>Key</th>\n",
       "      <th>Value</th>\n",
       "    </tr>\n",
       "  </thead>\n",
       "  <tbody>\n",
       "    <tr>\n",
       "      <th>0</th>\n",
       "      <td>('generated_system_example', 'm1')</td>\n",
       "      <td>0.01009</td>\n",
       "    </tr>\n",
       "  </tbody>\n",
       "</table>\n",
       "</div>"
      ],
      "text/plain": [
       "                                  Key    Value\n",
       "0  ('generated_system_example', 'm1')  0.01009"
      ]
     },
     "metadata": {},
     "output_type": "display_data"
    },
    {
     "name": "stdout",
     "output_type": "stream",
     "text": [
      "\n",
      "The following choices were made: \n",
      "No additional constraints have been passed.\n"
     ]
    }
   ],
   "source": [
    "pulpo_worker.summarize_results(demand=demand, zeroes=True)"
   ]
  },
  {
   "cell_type": "markdown",
   "id": "a6371c51-65c4-4a8d-93f0-0051f74a65b8",
   "metadata": {},
   "source": [
    "<div style=\"padding: 15px; border-left: 5px solid #2196F3; background-color: #f9f9f9; color: #000;\">\n",
    "    <strong>Result:</strong> If executed properly, the <strong>\"m1\"</strong> impact is determined to be <strong>0.010090 units</strong>.\n",
    "</div>"
   ]
  },
  {
   "cell_type": "markdown",
   "id": "c02f512f-74f7-473c-8c6d-d79650763108",
   "metadata": {},
   "source": [
    "___________\n",
    "### Task 3: Identify the Best Process Alternative\n",
    "\n",
    "**Objective**: Determine the best existing process alternative in the region to produce **Product 22**.\n",
    "\n",
    "With the environmental impacts of **\"Process 22_X_β\"** evaluated in Task 2, the next step is to compare it against other existing processes in region **β**. Your goal is to identify which process is the most environmentally efficient option (targeting \"**m1**\") for producing **Product 22**."
   ]
  },
  {
   "cell_type": "code",
   "execution_count": 18,
   "id": "1e5d17c7-e035-4c46-870f-9c10916efb50",
   "metadata": {
    "execution": {
     "iopub.execute_input": "2024-09-04T13:31:53.525869Z",
     "iopub.status.busy": "2024-09-04T13:31:53.525869Z",
     "iopub.status.idle": "2024-09-04T13:31:53.540193Z",
     "shell.execute_reply": "2024-09-04T13:31:53.540193Z",
     "shell.execute_reply.started": "2024-09-04T13:31:53.525869Z"
    }
   },
   "outputs": [],
   "source": [
    "#### Fill the gap!"
   ]
  },
  {
   "cell_type": "code",
   "execution_count": 19,
   "id": "0d8005a4-1c22-42a1-920b-f4aba52ffb0d",
   "metadata": {
    "execution": {
     "iopub.execute_input": "2024-09-04T13:31:53.542193Z",
     "iopub.status.busy": "2024-09-04T13:31:53.541194Z",
     "iopub.status.idle": "2024-09-04T13:31:53.603949Z",
     "shell.execute_reply": "2024-09-04T13:31:53.602824Z",
     "shell.execute_reply.started": "2024-09-04T13:31:53.542193Z"
    }
   },
   "outputs": [],
   "source": [
    "candidates = pulpo_worker.retrieve_activities(reference_products=[\"Product 22\"], locations=[\"β\"])\n",
    "market = [x for x in candidates if \"Market\" in x[\"name\"]]\n",
    "alternatives = [x for x in candidates if \"Process\" in x[\"name\"]]"
   ]
  },
  {
   "cell_type": "code",
   "execution_count": 20,
   "id": "3be0d10b-da91-4d0e-b5c0-a010ce847248",
   "metadata": {
    "execution": {
     "iopub.execute_input": "2024-09-04T13:31:53.605824Z",
     "iopub.status.busy": "2024-09-04T13:31:53.604824Z",
     "iopub.status.idle": "2024-09-04T13:31:53.619686Z",
     "shell.execute_reply": "2024-09-04T13:31:53.618686Z",
     "shell.execute_reply.started": "2024-09-04T13:31:53.605824Z"
    }
   },
   "outputs": [],
   "source": [
    "demand = {market[0]: 1}"
   ]
  },
  {
   "cell_type": "code",
   "execution_count": 21,
   "id": "d442bdbf-a9c8-453d-82ff-4edcdb607ba2",
   "metadata": {
    "execution": {
     "iopub.execute_input": "2024-09-04T13:31:53.620689Z",
     "iopub.status.busy": "2024-09-04T13:31:53.619686Z",
     "iopub.status.idle": "2024-09-04T13:31:53.635703Z",
     "shell.execute_reply": "2024-09-04T13:31:53.633894Z",
     "shell.execute_reply.started": "2024-09-04T13:31:53.620689Z"
    }
   },
   "outputs": [],
   "source": [
    "choices = {\"P22β\": {choice: 10 for choice in alternatives}}"
   ]
  },
  {
   "cell_type": "code",
   "execution_count": 22,
   "id": "007c360b-4006-40f9-84b4-be90175c46ea",
   "metadata": {
    "execution": {
     "iopub.execute_input": "2024-09-04T13:31:53.637701Z",
     "iopub.status.busy": "2024-09-04T13:31:53.637701Z",
     "iopub.status.idle": "2024-09-04T13:31:53.728643Z",
     "shell.execute_reply": "2024-09-04T13:31:53.726646Z",
     "shell.execute_reply.started": "2024-09-04T13:31:53.637701Z"
    }
   },
   "outputs": [
    {
     "name": "stdout",
     "output_type": "stream",
     "text": [
      "Creating Instance\n",
      "Instance created\n"
     ]
    }
   ],
   "source": [
    "pulpo_worker.instantiate(demand=demand, choices=choices)"
   ]
  },
  {
   "cell_type": "code",
   "execution_count": 23,
   "id": "7faea368-37bd-416e-9272-1de66ea3781c",
   "metadata": {
    "execution": {
     "iopub.execute_input": "2024-09-04T13:31:53.731643Z",
     "iopub.status.busy": "2024-09-04T13:31:53.730643Z",
     "iopub.status.idle": "2024-09-04T13:31:53.989363Z",
     "shell.execute_reply": "2024-09-04T13:31:53.989363Z",
     "shell.execute_reply.started": "2024-09-04T13:31:53.731643Z"
    }
   },
   "outputs": [
    {
     "data": {
      "text/plain": [
       "{'Problem': [{'Lower bound': -inf, 'Upper bound': inf, 'Number of objectives': 1, 'Number of constraints': 2600, 'Number of variables': 1300, 'Sense': 'unknown'}], 'Solver': [{'Status': 'ok', 'Message': 'Ipopt 3.11.1\\\\x3a Optimal Solution Found', 'Termination condition': 'optimal', 'Id': 0, 'Error rc': 0, 'Time': 0.16944670677185059}], 'Solution': [OrderedDict([('number of solutions', 0), ('number of solutions displayed', 0)])]}"
      ]
     },
     "execution_count": 23,
     "metadata": {},
     "output_type": "execute_result"
    }
   ],
   "source": [
    "pulpo_worker.solve(solver_name='ipopt')"
   ]
  },
  {
   "cell_type": "code",
   "execution_count": 24,
   "id": "c3a5ab61-454a-4dd1-86ac-a92f79c17f6e",
   "metadata": {
    "execution": {
     "iopub.execute_input": "2024-09-04T13:31:53.991364Z",
     "iopub.status.busy": "2024-09-04T13:31:53.990364Z",
     "iopub.status.idle": "2024-09-04T13:31:54.020170Z",
     "shell.execute_reply": "2024-09-04T13:31:54.020170Z",
     "shell.execute_reply.started": "2024-09-04T13:31:53.991364Z"
    }
   },
   "outputs": [
    {
     "name": "stdout",
     "output_type": "stream",
     "text": [
      "The following demand / functional unit has been specified: \n"
     ]
    },
    {
     "data": {
      "text/html": [
       "<div>\n",
       "<style scoped>\n",
       "    .dataframe tbody tr th:only-of-type {\n",
       "        vertical-align: middle;\n",
       "    }\n",
       "\n",
       "    .dataframe tbody tr th {\n",
       "        vertical-align: top;\n",
       "    }\n",
       "\n",
       "    .dataframe thead th {\n",
       "        text-align: right;\n",
       "    }\n",
       "</style>\n",
       "<table border=\"1\" class=\"dataframe\">\n",
       "  <thead>\n",
       "    <tr style=\"text-align: right;\">\n",
       "      <th></th>\n",
       "      <th>Demand</th>\n",
       "    </tr>\n",
       "  </thead>\n",
       "  <tbody>\n",
       "    <tr>\n",
       "      <th>Market 22_β | Product 22 | β</th>\n",
       "      <td>1</td>\n",
       "    </tr>\n",
       "  </tbody>\n",
       "</table>\n",
       "</div>"
      ],
      "text/plain": [
       "                              Demand\n",
       "Market 22_β | Product 22 | β       1"
      ]
     },
     "metadata": {},
     "output_type": "display_data"
    },
    {
     "name": "stdout",
     "output_type": "stream",
     "text": [
      "\n",
      "These are the impacts contained in the objective:\n"
     ]
    },
    {
     "data": {
      "text/html": [
       "<div>\n",
       "<style scoped>\n",
       "    .dataframe tbody tr th:only-of-type {\n",
       "        vertical-align: middle;\n",
       "    }\n",
       "\n",
       "    .dataframe tbody tr th {\n",
       "        vertical-align: top;\n",
       "    }\n",
       "\n",
       "    .dataframe thead th {\n",
       "        text-align: right;\n",
       "    }\n",
       "</style>\n",
       "<table border=\"1\" class=\"dataframe\">\n",
       "  <thead>\n",
       "    <tr style=\"text-align: right;\">\n",
       "      <th></th>\n",
       "      <th>Key</th>\n",
       "      <th>Value</th>\n",
       "    </tr>\n",
       "  </thead>\n",
       "  <tbody>\n",
       "    <tr>\n",
       "      <th>0</th>\n",
       "      <td>('generated_system_example', 'm1')</td>\n",
       "      <td>0.010089</td>\n",
       "    </tr>\n",
       "  </tbody>\n",
       "</table>\n",
       "</div>"
      ],
      "text/plain": [
       "                                  Key     Value\n",
       "0  ('generated_system_example', 'm1')  0.010089"
      ]
     },
     "metadata": {},
     "output_type": "display_data"
    },
    {
     "name": "stdout",
     "output_type": "stream",
     "text": [
      "\n",
      "The following choices were made: \n",
      "P22β\n"
     ]
    },
    {
     "data": {
      "text/html": [
       "<div>\n",
       "<style scoped>\n",
       "    .dataframe tbody tr th:only-of-type {\n",
       "        vertical-align: middle;\n",
       "    }\n",
       "\n",
       "    .dataframe tbody tr th {\n",
       "        vertical-align: top;\n",
       "    }\n",
       "\n",
       "    .dataframe thead tr th {\n",
       "        text-align: left;\n",
       "    }\n",
       "</style>\n",
       "<table border=\"1\" class=\"dataframe\">\n",
       "  <thead>\n",
       "    <tr>\n",
       "      <th></th>\n",
       "      <th colspan=\"3\" halign=\"left\">P22β</th>\n",
       "    </tr>\n",
       "    <tr>\n",
       "      <th></th>\n",
       "      <th>Activity</th>\n",
       "      <th>Capacity</th>\n",
       "      <th>Value</th>\n",
       "    </tr>\n",
       "  </thead>\n",
       "  <tbody>\n",
       "    <tr>\n",
       "      <th>Activity 0</th>\n",
       "      <td>Process 22_X_β | Product 22 | β</td>\n",
       "      <td>10</td>\n",
       "      <td>1.000085e+00</td>\n",
       "    </tr>\n",
       "    <tr>\n",
       "      <th>Activity 1</th>\n",
       "      <td>Process 22_E_β | Product 22 | β</td>\n",
       "      <td>10</td>\n",
       "      <td>1.983511e-07</td>\n",
       "    </tr>\n",
       "    <tr>\n",
       "      <th>Activity 2</th>\n",
       "      <td>Process 22_H_β | Product 22 | β</td>\n",
       "      <td>10</td>\n",
       "      <td>2.854574e-07</td>\n",
       "    </tr>\n",
       "    <tr>\n",
       "      <th>Activity 3</th>\n",
       "      <td>Process 22_G_β | Product 22 | β</td>\n",
       "      <td>10</td>\n",
       "      <td>1.436290e-08</td>\n",
       "    </tr>\n",
       "  </tbody>\n",
       "</table>\n",
       "</div>"
      ],
      "text/plain": [
       "                                       P22β                       \n",
       "                                   Activity Capacity         Value\n",
       "Activity 0  Process 22_X_β | Product 22 | β       10  1.000085e+00\n",
       "Activity 1  Process 22_E_β | Product 22 | β       10  1.983511e-07\n",
       "Activity 2  Process 22_H_β | Product 22 | β       10  2.854574e-07\n",
       "Activity 3  Process 22_G_β | Product 22 | β       10  1.436290e-08"
      ]
     },
     "metadata": {},
     "output_type": "display_data"
    },
    {
     "name": "stdout",
     "output_type": "stream",
     "text": [
      "No additional constraints have been passed.\n"
     ]
    }
   ],
   "source": [
    "pulpo_worker.summarize_results(choices=choices, demand=demand, zeroes=True)"
   ]
  },
  {
   "cell_type": "markdown",
   "id": "e47c4a09-8651-4f03-b86d-8c5b736013d2",
   "metadata": {},
   "source": [
    "<div style=\"padding: 15px; border-left: 5px solid #4CAF50; background-color: #f9f9f9; color: #000;\">\n",
    "    <strong>Outcome:</strong> The analysis reveals that the new process <strong>Process 22_X_β</strong> is the most environmentally efficient (targeting \"m1\"!) alternative in the region for producing <strong>Product 22</strong>\n",
    "</div>\n",
    "\n",
    "<div style=\"padding: 15px; border-left: 5px solid #FF9800; background-color: #f9f9f9; color: #000;\">\n",
    "    <strong>Important Note:</strong> When determining the best alternative based on the optimal market choice, the impact of <strong>Process X</strong> slightly decreases compared to the isolated assessment (0.010089 < 0.01009). This minor difference is due to the broader adoption of <strong>Process X</strong> in the background system, effectively lowering the upstream impacts, which include a very small amount of <strong>Product 22</strong> (0.000085 units).\n",
    "</div>"
   ]
  },
  {
   "cell_type": "markdown",
   "id": "92eb8a66-7c47-448b-a932-f6f61d8b3d31",
   "metadata": {},
   "source": [
    "__________________\n",
    "### Task 4: Expand the Analysis\n",
    "\n",
    "**Objective**: Investigate whether a better process alternative exists when considering other regions."
   ]
  },
  {
   "cell_type": "code",
   "execution_count": 25,
   "id": "6cba818b-c5b9-46bb-a4ef-f6cf26c90c03",
   "metadata": {
    "execution": {
     "iopub.execute_input": "2024-09-04T13:31:54.021171Z",
     "iopub.status.busy": "2024-09-04T13:31:54.021171Z",
     "iopub.status.idle": "2024-09-04T13:31:54.035954Z",
     "shell.execute_reply": "2024-09-04T13:31:54.035806Z",
     "shell.execute_reply.started": "2024-09-04T13:31:54.021171Z"
    }
   },
   "outputs": [],
   "source": [
    "#### Fill the gap!"
   ]
  },
  {
   "cell_type": "code",
   "execution_count": 26,
   "id": "f1bb0443-481f-479b-92ce-1da82d2dbf13",
   "metadata": {
    "execution": {
     "iopub.execute_input": "2024-09-04T13:31:54.036954Z",
     "iopub.status.busy": "2024-09-04T13:31:54.036954Z",
     "iopub.status.idle": "2024-09-04T13:31:54.067064Z",
     "shell.execute_reply": "2024-09-04T13:31:54.067064Z",
     "shell.execute_reply.started": "2024-09-04T13:31:54.036954Z"
    }
   },
   "outputs": [],
   "source": [
    "candidates = pulpo_worker.retrieve_activities(reference_products=[\"Product 22\"])\n",
    "alternatives = [x for x in candidates if \"Process\" in x[\"name\"]]"
   ]
  },
  {
   "cell_type": "code",
   "execution_count": 27,
   "id": "ecac6988-93f5-4e9d-84dd-6db49547b16c",
   "metadata": {
    "execution": {
     "iopub.execute_input": "2024-09-04T13:31:54.068068Z",
     "iopub.status.busy": "2024-09-04T13:31:54.068068Z",
     "iopub.status.idle": "2024-09-04T13:31:54.079965Z",
     "shell.execute_reply": "2024-09-04T13:31:54.079112Z",
     "shell.execute_reply.started": "2024-09-04T13:31:54.068068Z"
    }
   },
   "outputs": [],
   "source": [
    "choices = {\"P22β\": {choice: 10 for choice in alternatives}}"
   ]
  },
  {
   "cell_type": "code",
   "execution_count": 28,
   "id": "44f017dd-a8f2-4561-b7b7-11c59f93392a",
   "metadata": {
    "execution": {
     "iopub.execute_input": "2024-09-04T13:31:54.080967Z",
     "iopub.status.busy": "2024-09-04T13:31:54.080967Z",
     "iopub.status.idle": "2024-09-04T13:31:54.114189Z",
     "shell.execute_reply": "2024-09-04T13:31:54.113241Z",
     "shell.execute_reply.started": "2024-09-04T13:31:54.080967Z"
    }
   },
   "outputs": [
    {
     "data": {
      "text/plain": [
       "{'P22β': {'Process 22_E_β' (unit, β, None): 10,\n",
       "  'Process 22_G_β' (unit, β, None): 10,\n",
       "  'Process 22_B_γ' (unit, γ, None): 10,\n",
       "  'Process 22_H_β' (unit, β, None): 10,\n",
       "  'Process 22_E_δ' (unit, δ, None): 10,\n",
       "  'Process 22_A_α' (unit, α, None): 10,\n",
       "  'Process 22_A_δ' (unit, δ, None): 10,\n",
       "  'Process 22_X_β' (unit, β, None): 10,\n",
       "  'Process 22_D_γ' (unit, γ, None): 10}}"
      ]
     },
     "execution_count": 28,
     "metadata": {},
     "output_type": "execute_result"
    }
   ],
   "source": [
    "choices"
   ]
  },
  {
   "cell_type": "code",
   "execution_count": 29,
   "id": "36def284-eda1-401a-8d4f-b77632bf3372",
   "metadata": {
    "execution": {
     "iopub.execute_input": "2024-09-04T13:31:54.115179Z",
     "iopub.status.busy": "2024-09-04T13:31:54.115179Z",
     "iopub.status.idle": "2024-09-04T13:31:54.189409Z",
     "shell.execute_reply": "2024-09-04T13:31:54.188409Z",
     "shell.execute_reply.started": "2024-09-04T13:31:54.115179Z"
    }
   },
   "outputs": [
    {
     "name": "stdout",
     "output_type": "stream",
     "text": [
      "Creating Instance\n",
      "Instance created\n"
     ]
    }
   ],
   "source": [
    "pulpo_worker.instantiate(demand=demand, choices=choices)"
   ]
  },
  {
   "cell_type": "code",
   "execution_count": 30,
   "id": "b76e3cd3-39e2-49c4-8546-fdcaf1e2b9ae",
   "metadata": {
    "execution": {
     "iopub.execute_input": "2024-09-04T13:31:54.207339Z",
     "iopub.status.busy": "2024-09-04T13:31:54.190409Z",
     "iopub.status.idle": "2024-09-04T13:31:54.451728Z",
     "shell.execute_reply": "2024-09-04T13:31:54.451728Z",
     "shell.execute_reply.started": "2024-09-04T13:31:54.207339Z"
    }
   },
   "outputs": [
    {
     "data": {
      "text/plain": [
       "{'Problem': [{'Lower bound': -inf, 'Upper bound': inf, 'Number of objectives': 1, 'Number of constraints': 2590, 'Number of variables': 1295, 'Sense': 'unknown'}], 'Solver': [{'Status': 'ok', 'Message': 'Ipopt 3.11.1\\\\x3a Optimal Solution Found', 'Termination condition': 'optimal', 'Id': 0, 'Error rc': 0, 'Time': 0.18684029579162598}], 'Solution': [OrderedDict([('number of solutions', 0), ('number of solutions displayed', 0)])]}"
      ]
     },
     "execution_count": 30,
     "metadata": {},
     "output_type": "execute_result"
    }
   ],
   "source": [
    "pulpo_worker.solve(solver_name='ipopt')"
   ]
  },
  {
   "cell_type": "code",
   "execution_count": 31,
   "id": "392c64ee-77c0-4253-bac4-b60aa5460419",
   "metadata": {
    "execution": {
     "iopub.execute_input": "2024-09-04T13:31:54.452292Z",
     "iopub.status.busy": "2024-09-04T13:31:54.452292Z",
     "iopub.status.idle": "2024-09-04T13:31:54.484455Z",
     "shell.execute_reply": "2024-09-04T13:31:54.483451Z",
     "shell.execute_reply.started": "2024-09-04T13:31:54.452292Z"
    }
   },
   "outputs": [
    {
     "name": "stdout",
     "output_type": "stream",
     "text": [
      "The following demand / functional unit has been specified: \n"
     ]
    },
    {
     "data": {
      "text/html": [
       "<div>\n",
       "<style scoped>\n",
       "    .dataframe tbody tr th:only-of-type {\n",
       "        vertical-align: middle;\n",
       "    }\n",
       "\n",
       "    .dataframe tbody tr th {\n",
       "        vertical-align: top;\n",
       "    }\n",
       "\n",
       "    .dataframe thead th {\n",
       "        text-align: right;\n",
       "    }\n",
       "</style>\n",
       "<table border=\"1\" class=\"dataframe\">\n",
       "  <thead>\n",
       "    <tr style=\"text-align: right;\">\n",
       "      <th></th>\n",
       "      <th>Demand</th>\n",
       "    </tr>\n",
       "  </thead>\n",
       "  <tbody>\n",
       "    <tr>\n",
       "      <th>Market 22_β | Product 22 | β</th>\n",
       "      <td>1</td>\n",
       "    </tr>\n",
       "  </tbody>\n",
       "</table>\n",
       "</div>"
      ],
      "text/plain": [
       "                              Demand\n",
       "Market 22_β | Product 22 | β       1"
      ]
     },
     "metadata": {},
     "output_type": "display_data"
    },
    {
     "name": "stdout",
     "output_type": "stream",
     "text": [
      "\n",
      "These are the impacts contained in the objective:\n"
     ]
    },
    {
     "data": {
      "text/html": [
       "<div>\n",
       "<style scoped>\n",
       "    .dataframe tbody tr th:only-of-type {\n",
       "        vertical-align: middle;\n",
       "    }\n",
       "\n",
       "    .dataframe tbody tr th {\n",
       "        vertical-align: top;\n",
       "    }\n",
       "\n",
       "    .dataframe thead th {\n",
       "        text-align: right;\n",
       "    }\n",
       "</style>\n",
       "<table border=\"1\" class=\"dataframe\">\n",
       "  <thead>\n",
       "    <tr style=\"text-align: right;\">\n",
       "      <th></th>\n",
       "      <th>Key</th>\n",
       "      <th>Value</th>\n",
       "    </tr>\n",
       "  </thead>\n",
       "  <tbody>\n",
       "    <tr>\n",
       "      <th>0</th>\n",
       "      <td>('generated_system_example', 'm1')</td>\n",
       "      <td>0.010089</td>\n",
       "    </tr>\n",
       "  </tbody>\n",
       "</table>\n",
       "</div>"
      ],
      "text/plain": [
       "                                  Key     Value\n",
       "0  ('generated_system_example', 'm1')  0.010089"
      ]
     },
     "metadata": {},
     "output_type": "display_data"
    },
    {
     "name": "stdout",
     "output_type": "stream",
     "text": [
      "\n",
      "The following choices were made: \n",
      "P22β\n"
     ]
    },
    {
     "data": {
      "text/html": [
       "<div>\n",
       "<style scoped>\n",
       "    .dataframe tbody tr th:only-of-type {\n",
       "        vertical-align: middle;\n",
       "    }\n",
       "\n",
       "    .dataframe tbody tr th {\n",
       "        vertical-align: top;\n",
       "    }\n",
       "\n",
       "    .dataframe thead tr th {\n",
       "        text-align: left;\n",
       "    }\n",
       "</style>\n",
       "<table border=\"1\" class=\"dataframe\">\n",
       "  <thead>\n",
       "    <tr>\n",
       "      <th></th>\n",
       "      <th colspan=\"3\" halign=\"left\">P22β</th>\n",
       "    </tr>\n",
       "    <tr>\n",
       "      <th></th>\n",
       "      <th>Activity</th>\n",
       "      <th>Capacity</th>\n",
       "      <th>Value</th>\n",
       "    </tr>\n",
       "  </thead>\n",
       "  <tbody>\n",
       "    <tr>\n",
       "      <th>Activity 0</th>\n",
       "      <td>Process 22_E_β | Product 22 | β</td>\n",
       "      <td>10</td>\n",
       "      <td>1.983548e-07</td>\n",
       "    </tr>\n",
       "    <tr>\n",
       "      <th>Activity 1</th>\n",
       "      <td>Process 22_G_β | Product 22 | β</td>\n",
       "      <td>10</td>\n",
       "      <td>1.436289e-08</td>\n",
       "    </tr>\n",
       "    <tr>\n",
       "      <th>Activity 2</th>\n",
       "      <td>Process 22_B_γ | Product 22 | γ</td>\n",
       "      <td>10</td>\n",
       "      <td>2.500517e-08</td>\n",
       "    </tr>\n",
       "    <tr>\n",
       "      <th>Activity 3</th>\n",
       "      <td>Process 22_H_β | Product 22 | β</td>\n",
       "      <td>10</td>\n",
       "      <td>2.854571e-07</td>\n",
       "    </tr>\n",
       "    <tr>\n",
       "      <th>Activity 4</th>\n",
       "      <td>Process 22_E_δ | Product 22 | δ</td>\n",
       "      <td>10</td>\n",
       "      <td>9.775972e-08</td>\n",
       "    </tr>\n",
       "    <tr>\n",
       "      <th>Activity 5</th>\n",
       "      <td>Process 22_A_α | Product 22 | α</td>\n",
       "      <td>10</td>\n",
       "      <td>1.594191e-08</td>\n",
       "    </tr>\n",
       "    <tr>\n",
       "      <th>Activity 6</th>\n",
       "      <td>Process 22_A_δ | Product 22 | δ</td>\n",
       "      <td>10</td>\n",
       "      <td>5.273957e-08</td>\n",
       "    </tr>\n",
       "    <tr>\n",
       "      <th>Activity 7</th>\n",
       "      <td>Process 22_X_β | Product 22 | β</td>\n",
       "      <td>10</td>\n",
       "      <td>1.000085e+00</td>\n",
       "    </tr>\n",
       "    <tr>\n",
       "      <th>Activity 8</th>\n",
       "      <td>Process 22_D_γ | Product 22 | γ</td>\n",
       "      <td>10</td>\n",
       "      <td>1.791214e-08</td>\n",
       "    </tr>\n",
       "  </tbody>\n",
       "</table>\n",
       "</div>"
      ],
      "text/plain": [
       "                                       P22β                       \n",
       "                                   Activity Capacity         Value\n",
       "Activity 0  Process 22_E_β | Product 22 | β       10  1.983548e-07\n",
       "Activity 1  Process 22_G_β | Product 22 | β       10  1.436289e-08\n",
       "Activity 2  Process 22_B_γ | Product 22 | γ       10  2.500517e-08\n",
       "Activity 3  Process 22_H_β | Product 22 | β       10  2.854571e-07\n",
       "Activity 4  Process 22_E_δ | Product 22 | δ       10  9.775972e-08\n",
       "Activity 5  Process 22_A_α | Product 22 | α       10  1.594191e-08\n",
       "Activity 6  Process 22_A_δ | Product 22 | δ       10  5.273957e-08\n",
       "Activity 7  Process 22_X_β | Product 22 | β       10  1.000085e+00\n",
       "Activity 8  Process 22_D_γ | Product 22 | γ       10  1.791214e-08"
      ]
     },
     "metadata": {},
     "output_type": "display_data"
    },
    {
     "name": "stdout",
     "output_type": "stream",
     "text": [
      "No additional constraints have been passed.\n"
     ]
    }
   ],
   "source": [
    "pulpo_worker.summarize_results(choices=choices, demand=demand, zeroes=True)"
   ]
  },
  {
   "cell_type": "markdown",
   "id": "3c3d6adc-e2ad-4b5c-89be-29874bee84d8",
   "metadata": {},
   "source": [
    "<div style=\"padding: 15px; border-left: 5px solid #4CAF50; background-color: #f9f9f9; color: #000;\">\n",
    "    <strong>Outcome:</strong> The analysis reveals that the new process <strong>Process 22_X_β</strong> is the most environmentally efficient alternative (targeting \"m1\"!) among all regions and processes for producing <strong>Product 22</strong>\n",
    "</div>"
   ]
  },
  {
   "cell_type": "markdown",
   "id": "9d1e7fd2-1216-487c-92d8-49eb0ca2196a",
   "metadata": {},
   "source": [
    "_______\n",
    "### Task 5: Reframe the Objective\n",
    "\n",
    "**Objective**: Explore if the optimal solution changes when adjusting the objective.\n",
    "\n",
    "In this task, you will reassess the previously identified optimal process by changing the objective function. By adjusting the objective to prioritize a different impact category or a combination of categories, you will determine if the optimal process choice remains the same or shifts under the new criterion. Use \"**m2**\" as objective, but evaluate also **m1**.\n"
   ]
  },
  {
   "cell_type": "code",
   "execution_count": 32,
   "id": "a1a53570-2312-44aa-9e9b-9b2a22ad9a2a",
   "metadata": {
    "execution": {
     "iopub.execute_input": "2024-09-04T13:31:54.486939Z",
     "iopub.status.busy": "2024-09-04T13:31:54.485940Z",
     "iopub.status.idle": "2024-09-04T13:31:54.498056Z",
     "shell.execute_reply": "2024-09-04T13:31:54.496689Z",
     "shell.execute_reply.started": "2024-09-04T13:31:54.486939Z"
    }
   },
   "outputs": [],
   "source": [
    "#### Fill the gap!"
   ]
  },
  {
   "cell_type": "code",
   "execution_count": 33,
   "id": "b51df7c6-a223-4331-b88a-957137d7646d",
   "metadata": {
    "execution": {
     "iopub.execute_input": "2024-09-04T13:31:54.499056Z",
     "iopub.status.busy": "2024-09-04T13:31:54.499056Z",
     "iopub.status.idle": "2024-09-04T13:31:54.543702Z",
     "shell.execute_reply": "2024-09-04T13:31:54.543702Z",
     "shell.execute_reply.started": "2024-09-04T13:31:54.499056Z"
    }
   },
   "outputs": [],
   "source": [
    "pulpo_worker.method = {\"('generated_system_example', 'm1')\": 0,\n",
    "                       \"('generated_system_example', 'm2')\": 1}\n",
    "pulpo_worker.get_lci_data()"
   ]
  },
  {
   "cell_type": "code",
   "execution_count": 34,
   "id": "bfcfa796-fcfd-4e2a-9dda-c607d89bd4ee",
   "metadata": {
    "execution": {
     "iopub.execute_input": "2024-09-04T13:31:54.544543Z",
     "iopub.status.busy": "2024-09-04T13:31:54.544543Z",
     "iopub.status.idle": "2024-09-04T13:31:54.621894Z",
     "shell.execute_reply": "2024-09-04T13:31:54.620893Z",
     "shell.execute_reply.started": "2024-09-04T13:31:54.544543Z"
    }
   },
   "outputs": [
    {
     "name": "stdout",
     "output_type": "stream",
     "text": [
      "Creating Instance\n",
      "Instance created\n"
     ]
    }
   ],
   "source": [
    "pulpo_worker.instantiate(demand=demand, choices=choices)"
   ]
  },
  {
   "cell_type": "code",
   "execution_count": 35,
   "id": "835844ec-493a-4d43-9f9c-0fe71e57ea00",
   "metadata": {
    "execution": {
     "iopub.execute_input": "2024-09-04T13:31:54.622894Z",
     "iopub.status.busy": "2024-09-04T13:31:54.622894Z",
     "iopub.status.idle": "2024-09-04T13:31:54.851362Z",
     "shell.execute_reply": "2024-09-04T13:31:54.850364Z",
     "shell.execute_reply.started": "2024-09-04T13:31:54.622894Z"
    }
   },
   "outputs": [
    {
     "data": {
      "text/plain": [
       "{'Problem': [{'Lower bound': -inf, 'Upper bound': inf, 'Number of objectives': 1, 'Number of constraints': 2590, 'Number of variables': 1295, 'Sense': 'unknown'}], 'Solver': [{'Status': 'ok', 'Message': 'Ipopt 3.11.1\\\\x3a Optimal Solution Found', 'Termination condition': 'optimal', 'Id': 0, 'Error rc': 0, 'Time': 0.16982316970825195}], 'Solution': [OrderedDict([('number of solutions', 0), ('number of solutions displayed', 0)])]}"
      ]
     },
     "execution_count": 35,
     "metadata": {},
     "output_type": "execute_result"
    }
   ],
   "source": [
    "pulpo_worker.solve(solver_name='ipopt')"
   ]
  },
  {
   "cell_type": "code",
   "execution_count": 36,
   "id": "6aa37d20-7c1d-4607-97fd-2b5792db642e",
   "metadata": {
    "execution": {
     "iopub.execute_input": "2024-09-04T13:31:54.854639Z",
     "iopub.status.busy": "2024-09-04T13:31:54.853651Z",
     "iopub.status.idle": "2024-09-04T13:31:54.900367Z",
     "shell.execute_reply": "2024-09-04T13:31:54.899357Z",
     "shell.execute_reply.started": "2024-09-04T13:31:54.854639Z"
    }
   },
   "outputs": [
    {
     "name": "stdout",
     "output_type": "stream",
     "text": [
      "The following demand / functional unit has been specified: \n"
     ]
    },
    {
     "data": {
      "text/html": [
       "<div>\n",
       "<style scoped>\n",
       "    .dataframe tbody tr th:only-of-type {\n",
       "        vertical-align: middle;\n",
       "    }\n",
       "\n",
       "    .dataframe tbody tr th {\n",
       "        vertical-align: top;\n",
       "    }\n",
       "\n",
       "    .dataframe thead th {\n",
       "        text-align: right;\n",
       "    }\n",
       "</style>\n",
       "<table border=\"1\" class=\"dataframe\">\n",
       "  <thead>\n",
       "    <tr style=\"text-align: right;\">\n",
       "      <th></th>\n",
       "      <th>Demand</th>\n",
       "    </tr>\n",
       "  </thead>\n",
       "  <tbody>\n",
       "    <tr>\n",
       "      <th>Market 22_β | Product 22 | β</th>\n",
       "      <td>1</td>\n",
       "    </tr>\n",
       "  </tbody>\n",
       "</table>\n",
       "</div>"
      ],
      "text/plain": [
       "                              Demand\n",
       "Market 22_β | Product 22 | β       1"
      ]
     },
     "metadata": {},
     "output_type": "display_data"
    },
    {
     "name": "stdout",
     "output_type": "stream",
     "text": [
      "\n",
      "These are the impacts contained in the objective:\n"
     ]
    },
    {
     "data": {
      "text/html": [
       "<div>\n",
       "<style scoped>\n",
       "    .dataframe tbody tr th:only-of-type {\n",
       "        vertical-align: middle;\n",
       "    }\n",
       "\n",
       "    .dataframe tbody tr th {\n",
       "        vertical-align: top;\n",
       "    }\n",
       "\n",
       "    .dataframe thead th {\n",
       "        text-align: right;\n",
       "    }\n",
       "</style>\n",
       "<table border=\"1\" class=\"dataframe\">\n",
       "  <thead>\n",
       "    <tr style=\"text-align: right;\">\n",
       "      <th></th>\n",
       "      <th>Key</th>\n",
       "      <th>Value</th>\n",
       "    </tr>\n",
       "  </thead>\n",
       "  <tbody>\n",
       "    <tr>\n",
       "      <th>0</th>\n",
       "      <td>('generated_system_example', 'm2')</td>\n",
       "      <td>0.114117</td>\n",
       "    </tr>\n",
       "  </tbody>\n",
       "</table>\n",
       "</div>"
      ],
      "text/plain": [
       "                                  Key     Value\n",
       "0  ('generated_system_example', 'm2')  0.114117"
      ]
     },
     "metadata": {},
     "output_type": "display_data"
    },
    {
     "name": "stdout",
     "output_type": "stream",
     "text": [
      "\n",
      "The following impacts were calculated: \n"
     ]
    },
    {
     "data": {
      "text/html": [
       "<div>\n",
       "<style scoped>\n",
       "    .dataframe tbody tr th:only-of-type {\n",
       "        vertical-align: middle;\n",
       "    }\n",
       "\n",
       "    .dataframe tbody tr th {\n",
       "        vertical-align: top;\n",
       "    }\n",
       "\n",
       "    .dataframe thead th {\n",
       "        text-align: right;\n",
       "    }\n",
       "</style>\n",
       "<table border=\"1\" class=\"dataframe\">\n",
       "  <thead>\n",
       "    <tr style=\"text-align: right;\">\n",
       "      <th></th>\n",
       "      <th>Key</th>\n",
       "      <th>Value</th>\n",
       "    </tr>\n",
       "  </thead>\n",
       "  <tbody>\n",
       "    <tr>\n",
       "      <th>1</th>\n",
       "      <td>('generated_system_example', 'm2')</td>\n",
       "      <td>0.114117</td>\n",
       "    </tr>\n",
       "    <tr>\n",
       "      <th>0</th>\n",
       "      <td>('generated_system_example', 'm1')</td>\n",
       "      <td>0.050346</td>\n",
       "    </tr>\n",
       "  </tbody>\n",
       "</table>\n",
       "</div>"
      ],
      "text/plain": [
       "                                  Key     Value\n",
       "1  ('generated_system_example', 'm2')  0.114117\n",
       "0  ('generated_system_example', 'm1')  0.050346"
      ]
     },
     "metadata": {},
     "output_type": "display_data"
    },
    {
     "name": "stdout",
     "output_type": "stream",
     "text": [
      "\n",
      "The following choices were made: \n",
      "P22β\n"
     ]
    },
    {
     "data": {
      "text/html": [
       "<div>\n",
       "<style scoped>\n",
       "    .dataframe tbody tr th:only-of-type {\n",
       "        vertical-align: middle;\n",
       "    }\n",
       "\n",
       "    .dataframe tbody tr th {\n",
       "        vertical-align: top;\n",
       "    }\n",
       "\n",
       "    .dataframe thead tr th {\n",
       "        text-align: left;\n",
       "    }\n",
       "</style>\n",
       "<table border=\"1\" class=\"dataframe\">\n",
       "  <thead>\n",
       "    <tr>\n",
       "      <th></th>\n",
       "      <th colspan=\"3\" halign=\"left\">P22β</th>\n",
       "    </tr>\n",
       "    <tr>\n",
       "      <th></th>\n",
       "      <th>Activity</th>\n",
       "      <th>Capacity</th>\n",
       "      <th>Value</th>\n",
       "    </tr>\n",
       "  </thead>\n",
       "  <tbody>\n",
       "    <tr>\n",
       "      <th>Activity 0</th>\n",
       "      <td>Process 22_E_β | Product 22 | β</td>\n",
       "      <td>10</td>\n",
       "      <td>8.143762e-08</td>\n",
       "    </tr>\n",
       "    <tr>\n",
       "      <th>Activity 1</th>\n",
       "      <td>Process 22_G_β | Product 22 | β</td>\n",
       "      <td>10</td>\n",
       "      <td>4.530763e-09</td>\n",
       "    </tr>\n",
       "    <tr>\n",
       "      <th>Activity 2</th>\n",
       "      <td>Process 22_B_γ | Product 22 | γ</td>\n",
       "      <td>10</td>\n",
       "      <td>-3.054073e-09</td>\n",
       "    </tr>\n",
       "    <tr>\n",
       "      <th>Activity 3</th>\n",
       "      <td>Process 22_H_β | Product 22 | β</td>\n",
       "      <td>10</td>\n",
       "      <td>1.084861e-08</td>\n",
       "    </tr>\n",
       "    <tr>\n",
       "      <th>Activity 4</th>\n",
       "      <td>Process 22_E_δ | Product 22 | δ</td>\n",
       "      <td>10</td>\n",
       "      <td>1.176843e-08</td>\n",
       "    </tr>\n",
       "    <tr>\n",
       "      <th>Activity 5</th>\n",
       "      <td>Process 22_A_α | Product 22 | α</td>\n",
       "      <td>10</td>\n",
       "      <td>5.073199e-08</td>\n",
       "    </tr>\n",
       "    <tr>\n",
       "      <th>Activity 6</th>\n",
       "      <td>Process 22_A_δ | Product 22 | δ</td>\n",
       "      <td>10</td>\n",
       "      <td>1.007902e+00</td>\n",
       "    </tr>\n",
       "    <tr>\n",
       "      <th>Activity 7</th>\n",
       "      <td>Process 22_X_β | Product 22 | β</td>\n",
       "      <td>10</td>\n",
       "      <td>-7.351682e-09</td>\n",
       "    </tr>\n",
       "    <tr>\n",
       "      <th>Activity 8</th>\n",
       "      <td>Process 22_D_γ | Product 22 | γ</td>\n",
       "      <td>10</td>\n",
       "      <td>6.593671e-08</td>\n",
       "    </tr>\n",
       "  </tbody>\n",
       "</table>\n",
       "</div>"
      ],
      "text/plain": [
       "                                       P22β                       \n",
       "                                   Activity Capacity         Value\n",
       "Activity 0  Process 22_E_β | Product 22 | β       10  8.143762e-08\n",
       "Activity 1  Process 22_G_β | Product 22 | β       10  4.530763e-09\n",
       "Activity 2  Process 22_B_γ | Product 22 | γ       10 -3.054073e-09\n",
       "Activity 3  Process 22_H_β | Product 22 | β       10  1.084861e-08\n",
       "Activity 4  Process 22_E_δ | Product 22 | δ       10  1.176843e-08\n",
       "Activity 5  Process 22_A_α | Product 22 | α       10  5.073199e-08\n",
       "Activity 6  Process 22_A_δ | Product 22 | δ       10  1.007902e+00\n",
       "Activity 7  Process 22_X_β | Product 22 | β       10 -7.351682e-09\n",
       "Activity 8  Process 22_D_γ | Product 22 | γ       10  6.593671e-08"
      ]
     },
     "metadata": {},
     "output_type": "display_data"
    },
    {
     "name": "stdout",
     "output_type": "stream",
     "text": [
      "No additional constraints have been passed.\n"
     ]
    }
   ],
   "source": [
    "pulpo_worker.summarize_results(choices=choices, demand=demand, zeroes=True)"
   ]
  },
  {
   "cell_type": "markdown",
   "id": "915f5b52-473f-4327-be4a-5be5ee1331b2",
   "metadata": {},
   "source": [
    "<div style=\"padding: 15px; border-left: 5px solid #4CAF50; background-color: #f9f9f9; color: #000;\">\n",
    "    <strong>Outcome:</strong> Changing the objective reveals that <strong>Technology A</strong> from region <strong>δ</strong> is the best option for minimizing the <strong>m2</strong> impact. However, this comes with a trade-off: the corresponding <strong>m1</strong> impact is significantly higher (0.050346 points) compared to the <strong>m1</strong> optimal solution (0.010089 points).\n",
    "</div>"
   ]
  },
  {
   "cell_type": "markdown",
   "id": "7c6033ae-c97c-47b7-9781-0e6081a67409",
   "metadata": {},
   "source": [
    "_________\n",
    "### Task 6: Balance the Trade-offs\n",
    "\n",
    "**Objective**: Find a trade-off solution that minimizes one impact category while keeping another in some limits.\n",
    "\n",
    "In this task, you will try to achieve a balance between the two identified competing impact categories **m2** and **m1**. Particularily, limit the **m1** impact to 0.025 points and find the optimum technology mix.\n"
   ]
  },
  {
   "cell_type": "code",
   "execution_count": 37,
   "id": "94192dbb-8381-46b5-8ae5-f362265fcce5",
   "metadata": {
    "execution": {
     "iopub.execute_input": "2024-09-04T13:31:54.901364Z",
     "iopub.status.busy": "2024-09-04T13:31:54.901364Z",
     "iopub.status.idle": "2024-09-04T13:31:54.916595Z",
     "shell.execute_reply": "2024-09-04T13:31:54.914366Z",
     "shell.execute_reply.started": "2024-09-04T13:31:54.901364Z"
    }
   },
   "outputs": [],
   "source": [
    "epsilon_constraint = {\"('generated_system_example', 'm1')\": 0.025}"
   ]
  },
  {
   "cell_type": "code",
   "execution_count": 38,
   "id": "cacabe03-d2dd-42df-8423-391f03503da9",
   "metadata": {
    "execution": {
     "iopub.execute_input": "2024-09-04T13:31:54.917595Z",
     "iopub.status.busy": "2024-09-04T13:31:54.916595Z",
     "iopub.status.idle": "2024-09-04T13:31:55.009091Z",
     "shell.execute_reply": "2024-09-04T13:31:55.008090Z",
     "shell.execute_reply.started": "2024-09-04T13:31:54.917595Z"
    }
   },
   "outputs": [
    {
     "name": "stdout",
     "output_type": "stream",
     "text": [
      "Creating Instance\n",
      "Instance created\n"
     ]
    }
   ],
   "source": [
    "pulpo_worker.instantiate(choices=choices, demand=demand, upper_imp_limit=epsilon_constraint)"
   ]
  },
  {
   "cell_type": "code",
   "execution_count": 39,
   "id": "30b880b9-c224-4e1c-ad5c-caeebf607bbf",
   "metadata": {
    "execution": {
     "iopub.execute_input": "2024-09-04T13:31:55.018475Z",
     "iopub.status.busy": "2024-09-04T13:31:55.017476Z",
     "iopub.status.idle": "2024-09-04T13:31:55.293441Z",
     "shell.execute_reply": "2024-09-04T13:31:55.292441Z",
     "shell.execute_reply.started": "2024-09-04T13:31:55.018475Z"
    }
   },
   "outputs": [
    {
     "data": {
      "text/plain": [
       "{'Problem': [{'Lower bound': -inf, 'Upper bound': inf, 'Number of objectives': 1, 'Number of constraints': 2592, 'Number of variables': 1296, 'Sense': 'unknown'}], 'Solver': [{'Status': 'ok', 'Message': 'Ipopt 3.11.1\\\\x3a Optimal Solution Found', 'Termination condition': 'optimal', 'Id': 0, 'Error rc': 0, 'Time': 0.21182632446289062}], 'Solution': [OrderedDict([('number of solutions', 0), ('number of solutions displayed', 0)])]}"
      ]
     },
     "execution_count": 39,
     "metadata": {},
     "output_type": "execute_result"
    }
   ],
   "source": [
    "pulpo_worker.solve(solver_name='ipopt')"
   ]
  },
  {
   "cell_type": "code",
   "execution_count": 40,
   "id": "a0217ba1-ccaa-4941-84f0-d33b86d3d65d",
   "metadata": {
    "execution": {
     "iopub.execute_input": "2024-09-04T13:31:55.295475Z",
     "iopub.status.busy": "2024-09-04T13:31:55.294441Z",
     "iopub.status.idle": "2024-09-04T13:31:55.322791Z",
     "shell.execute_reply": "2024-09-04T13:31:55.322791Z",
     "shell.execute_reply.started": "2024-09-04T13:31:55.295475Z"
    }
   },
   "outputs": [
    {
     "name": "stdout",
     "output_type": "stream",
     "text": [
      "The following demand / functional unit has been specified: \n"
     ]
    },
    {
     "data": {
      "text/html": [
       "<div>\n",
       "<style scoped>\n",
       "    .dataframe tbody tr th:only-of-type {\n",
       "        vertical-align: middle;\n",
       "    }\n",
       "\n",
       "    .dataframe tbody tr th {\n",
       "        vertical-align: top;\n",
       "    }\n",
       "\n",
       "    .dataframe thead th {\n",
       "        text-align: right;\n",
       "    }\n",
       "</style>\n",
       "<table border=\"1\" class=\"dataframe\">\n",
       "  <thead>\n",
       "    <tr style=\"text-align: right;\">\n",
       "      <th></th>\n",
       "      <th>Demand</th>\n",
       "    </tr>\n",
       "  </thead>\n",
       "  <tbody>\n",
       "    <tr>\n",
       "      <th>Market 22_β | Product 22 | β</th>\n",
       "      <td>1</td>\n",
       "    </tr>\n",
       "  </tbody>\n",
       "</table>\n",
       "</div>"
      ],
      "text/plain": [
       "                              Demand\n",
       "Market 22_β | Product 22 | β       1"
      ]
     },
     "metadata": {},
     "output_type": "display_data"
    },
    {
     "name": "stdout",
     "output_type": "stream",
     "text": [
      "\n",
      "These are the impacts contained in the objective:\n"
     ]
    },
    {
     "data": {
      "text/html": [
       "<div>\n",
       "<style scoped>\n",
       "    .dataframe tbody tr th:only-of-type {\n",
       "        vertical-align: middle;\n",
       "    }\n",
       "\n",
       "    .dataframe tbody tr th {\n",
       "        vertical-align: top;\n",
       "    }\n",
       "\n",
       "    .dataframe thead th {\n",
       "        text-align: right;\n",
       "    }\n",
       "</style>\n",
       "<table border=\"1\" class=\"dataframe\">\n",
       "  <thead>\n",
       "    <tr style=\"text-align: right;\">\n",
       "      <th></th>\n",
       "      <th>Key</th>\n",
       "      <th>Value</th>\n",
       "    </tr>\n",
       "  </thead>\n",
       "  <tbody>\n",
       "    <tr>\n",
       "      <th>1</th>\n",
       "      <td>('generated_system_example', 'm2')</td>\n",
       "      <td>0.138893</td>\n",
       "    </tr>\n",
       "    <tr>\n",
       "      <th>0</th>\n",
       "      <td>('generated_system_example', 'm1')</td>\n",
       "      <td>0.025000</td>\n",
       "    </tr>\n",
       "  </tbody>\n",
       "</table>\n",
       "</div>"
      ],
      "text/plain": [
       "                                  Key     Value\n",
       "1  ('generated_system_example', 'm2')  0.138893\n",
       "0  ('generated_system_example', 'm1')  0.025000"
      ]
     },
     "metadata": {},
     "output_type": "display_data"
    },
    {
     "name": "stdout",
     "output_type": "stream",
     "text": [
      "\n",
      "The following impacts were calculated: \n"
     ]
    },
    {
     "data": {
      "text/html": [
       "<div>\n",
       "<style scoped>\n",
       "    .dataframe tbody tr th:only-of-type {\n",
       "        vertical-align: middle;\n",
       "    }\n",
       "\n",
       "    .dataframe tbody tr th {\n",
       "        vertical-align: top;\n",
       "    }\n",
       "\n",
       "    .dataframe thead th {\n",
       "        text-align: right;\n",
       "    }\n",
       "</style>\n",
       "<table border=\"1\" class=\"dataframe\">\n",
       "  <thead>\n",
       "    <tr style=\"text-align: right;\">\n",
       "      <th></th>\n",
       "      <th>Key</th>\n",
       "      <th>Value</th>\n",
       "    </tr>\n",
       "  </thead>\n",
       "  <tbody>\n",
       "    <tr>\n",
       "      <th>1</th>\n",
       "      <td>('generated_system_example', 'm2')</td>\n",
       "      <td>0.138893</td>\n",
       "    </tr>\n",
       "    <tr>\n",
       "      <th>0</th>\n",
       "      <td>('generated_system_example', 'm1')</td>\n",
       "      <td>0.025000</td>\n",
       "    </tr>\n",
       "  </tbody>\n",
       "</table>\n",
       "</div>"
      ],
      "text/plain": [
       "                                  Key     Value\n",
       "1  ('generated_system_example', 'm2')  0.138893\n",
       "0  ('generated_system_example', 'm1')  0.025000"
      ]
     },
     "metadata": {},
     "output_type": "display_data"
    },
    {
     "name": "stdout",
     "output_type": "stream",
     "text": [
      "\n",
      "The following choices were made: \n",
      "P22β\n"
     ]
    },
    {
     "data": {
      "text/html": [
       "<div>\n",
       "<style scoped>\n",
       "    .dataframe tbody tr th:only-of-type {\n",
       "        vertical-align: middle;\n",
       "    }\n",
       "\n",
       "    .dataframe tbody tr th {\n",
       "        vertical-align: top;\n",
       "    }\n",
       "\n",
       "    .dataframe thead tr th {\n",
       "        text-align: left;\n",
       "    }\n",
       "</style>\n",
       "<table border=\"1\" class=\"dataframe\">\n",
       "  <thead>\n",
       "    <tr>\n",
       "      <th></th>\n",
       "      <th colspan=\"3\" halign=\"left\">P22β</th>\n",
       "    </tr>\n",
       "    <tr>\n",
       "      <th></th>\n",
       "      <th>Activity</th>\n",
       "      <th>Capacity</th>\n",
       "      <th>Value</th>\n",
       "    </tr>\n",
       "  </thead>\n",
       "  <tbody>\n",
       "    <tr>\n",
       "      <th>Activity 0</th>\n",
       "      <td>Process 22_E_β | Product 22 | β</td>\n",
       "      <td>10</td>\n",
       "      <td>9.040458e-01</td>\n",
       "    </tr>\n",
       "    <tr>\n",
       "      <th>Activity 1</th>\n",
       "      <td>Process 22_G_β | Product 22 | β</td>\n",
       "      <td>10</td>\n",
       "      <td>7.034459e-10</td>\n",
       "    </tr>\n",
       "    <tr>\n",
       "      <th>Activity 2</th>\n",
       "      <td>Process 22_B_γ | Product 22 | γ</td>\n",
       "      <td>10</td>\n",
       "      <td>-3.727221e-09</td>\n",
       "    </tr>\n",
       "    <tr>\n",
       "      <th>Activity 3</th>\n",
       "      <td>Process 22_H_β | Product 22 | β</td>\n",
       "      <td>10</td>\n",
       "      <td>1.809254e-08</td>\n",
       "    </tr>\n",
       "    <tr>\n",
       "      <th>Activity 4</th>\n",
       "      <td>Process 22_E_δ | Product 22 | δ</td>\n",
       "      <td>10</td>\n",
       "      <td>1.541325e-08</td>\n",
       "    </tr>\n",
       "    <tr>\n",
       "      <th>Activity 5</th>\n",
       "      <td>Process 22_A_α | Product 22 | α</td>\n",
       "      <td>10</td>\n",
       "      <td>1.601073e-08</td>\n",
       "    </tr>\n",
       "    <tr>\n",
       "      <th>Activity 6</th>\n",
       "      <td>Process 22_A_δ | Product 22 | δ</td>\n",
       "      <td>10</td>\n",
       "      <td>1.011045e-01</td>\n",
       "    </tr>\n",
       "    <tr>\n",
       "      <th>Activity 7</th>\n",
       "      <td>Process 22_X_β | Product 22 | β</td>\n",
       "      <td>10</td>\n",
       "      <td>-7.236773e-09</td>\n",
       "    </tr>\n",
       "    <tr>\n",
       "      <th>Activity 8</th>\n",
       "      <td>Process 22_D_γ | Product 22 | γ</td>\n",
       "      <td>10</td>\n",
       "      <td>2.077108e-08</td>\n",
       "    </tr>\n",
       "  </tbody>\n",
       "</table>\n",
       "</div>"
      ],
      "text/plain": [
       "                                       P22β                       \n",
       "                                   Activity Capacity         Value\n",
       "Activity 0  Process 22_E_β | Product 22 | β       10  9.040458e-01\n",
       "Activity 1  Process 22_G_β | Product 22 | β       10  7.034459e-10\n",
       "Activity 2  Process 22_B_γ | Product 22 | γ       10 -3.727221e-09\n",
       "Activity 3  Process 22_H_β | Product 22 | β       10  1.809254e-08\n",
       "Activity 4  Process 22_E_δ | Product 22 | δ       10  1.541325e-08\n",
       "Activity 5  Process 22_A_α | Product 22 | α       10  1.601073e-08\n",
       "Activity 6  Process 22_A_δ | Product 22 | δ       10  1.011045e-01\n",
       "Activity 7  Process 22_X_β | Product 22 | β       10 -7.236773e-09\n",
       "Activity 8  Process 22_D_γ | Product 22 | γ       10  2.077108e-08"
      ]
     },
     "metadata": {},
     "output_type": "display_data"
    },
    {
     "name": "stdout",
     "output_type": "stream",
     "text": [
      "No additional constraints have been passed.\n"
     ]
    }
   ],
   "source": [
    "pulpo_worker.summarize_results(choices=choices, demand=demand, zeroes=True)"
   ]
  },
  {
   "cell_type": "markdown",
   "id": "d8afd38e-17a2-45c9-a52e-c61626a4edd4",
   "metadata": {},
   "source": [
    "<div style=\"padding: 15px; border-left: 5px solid #4CAF50; background-color: #f9f9f9; color: #000;\">\n",
    "    <strong>Outcome:</strong> When executed correctly, the optimal technology mix consists of 90% <strong>Technology E</strong> in region <strong>β</strong> and 10% <strong>Technology A</strong> in region <strong>δ</strong>. Interestingly, this result is not simply a linear combination of the solutions that minimize each individual objective (X in β and A in δ) but rather a unique mix that offers a balanced approach, achieving more moderate emissions across both impact categories.\n",
    "</div>\n",
    "<div style=\"padding: 15px; border-left: 5px solid #FF9800; background-color: #f9f9f9; color: #000;\">\n",
    "    This demonstration / exercise highlights the importance of evaluating all technological and regional options when searching for balanced solutions. Additionally, as shown in the 02_rice_example_resolution.ipynb notebook, considering capacity constraints is essential for identifying feasible solutions when scaling systems.\n",
    "</div>"
   ]
  }
 ],
 "metadata": {
  "kernelspec": {
   "display_name": "Python 3 (ipykernel)",
   "language": "python",
   "name": "python3"
  },
  "language_info": {
   "codemirror_mode": {
    "name": "ipython",
    "version": 3
   },
   "file_extension": ".py",
   "mimetype": "text/x-python",
   "name": "python",
   "nbconvert_exporter": "python",
   "pygments_lexer": "ipython3",
   "version": "3.10.14"
  }
 },
 "nbformat": 4,
 "nbformat_minor": 5
}
